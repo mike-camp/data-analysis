{
 "cells": [
  {
   "cell_type": "markdown",
   "metadata": {},
   "source": [
    "# Finding spam in Youtube comments.   \n",
    "\n",
    "Spam has been around since the beginning of the internet.  In fact, the use of spam over a network stretches back all the way to 1884 when wealthy Americans were sent unsolicited investment offers over the telegraph[[1](http://content.time.com/time/business/article/0,8599,1933796,00.html)].  In more modern times, the first appearence of modern email spam occured on ARPANET, a military precurser to the internet, when 'a man named Gary Turk sent an e-mail solicitation to 400 people, advertising his line of new computers'[[1](http://content.time.com/time/business/article/0,8599,1933796,00.html)].  \n",
    "\n",
    "In this notebook we will consider filtering the problem of finding spam in Youtube comments.   Spam in youtube comments is a slightly different task then spam in email.  Youtube comments tend to be short, often less than five words, and a spam email may simply contain the name the website domain.   However, as we will see, it is quite easy to construct a machine learning model to classify comments as spam or ham (not spam).   \n",
    "\n",
    "For a training and test set, we will use the spam database found on the  UCI machine learning repository.   There are several different types of algorithm we can use to classify spam, however in this notebook, I will compare three specific models\n",
    "\n",
    "* Logistic Regression\n",
    "* Naive Bayes Classifier\n",
    "* Recurrent Neural Networks\n",
    "\n",
    "While simple, the logistic regression and naive Bayes models perform quite well at classifying emails as spam or ham, and manage to achieve an f1 score of ~.9 on the test set.  The neural network performs well, though not as good as the Naive Bayes algorithm, with an f1 score of .75 on the test set.   \n",
    "\n",
    "## Table of Contents \n",
    "* [Data preprocessing](#1)\n",
    "    * [Cleaning the data](#1.1)\n",
    "    * [Splitting the data into test/training sets](#1.2)\n",
    "* [Turning sentences into vectors](#2)\n",
    "    * [Bag of words model](#2.1)\n",
    "    * [Term frequency/inverse document frequency](#2.2)\n",
    "* [Predicting spam vs ham](#3)\n",
    "    * [Model evaluation criteria](#3.1)\n",
    "    * [Logistic regression](#3.2)\n",
    "    * [Naive Bayes model](#3.3)\n",
    "* [Neural networks](#4)\n",
    "    * [Word encodings](#4.1)\n",
    "    * [Recurrent neural networks](#4.2)\n",
    "* [Conclusions](#5)\n",
    "    "
   ]
  },
  {
   "cell_type": "code",
   "execution_count": 1,
   "metadata": {
    "collapsed": true
   },
   "outputs": [],
   "source": [
    "%matplotlib inline\n",
    "import matplotlib.pyplot as plt\n",
    "import numpy as np\n",
    "import pandas as pd\n",
    "import tensorflow as tf\n",
    "import re\n",
    "import os"
   ]
  },
  {
   "cell_type": "markdown",
   "metadata": {},
   "source": [
    "# Data analysis, preprocessing <a id='1'></a>\n",
    "\n",
    "[UCI has a machine learning repository consisting of comments from five youtube videos that are classified as spam or not spam](http://archive.ics.uci.edu/ml/datasets/YouTube+Spam+Collection#).   These are stored as csv_files, which will be loaded into a list of dataframes.   The classification data is stored as the class field, where comments with a class of 1 are considered spam, and comments with a class value of 0 are ham.   "
   ]
  },
  {
   "cell_type": "code",
   "execution_count": 4,
   "metadata": {},
   "outputs": [
    {
     "data": {
      "text/html": [
       "<div>\n",
       "<style>\n",
       "    .dataframe thead tr:only-child th {\n",
       "        text-align: right;\n",
       "    }\n",
       "\n",
       "    .dataframe thead th {\n",
       "        text-align: left;\n",
       "    }\n",
       "\n",
       "    .dataframe tbody tr th {\n",
       "        vertical-align: top;\n",
       "    }\n",
       "</style>\n",
       "<table border=\"1\" class=\"dataframe\">\n",
       "  <thead>\n",
       "    <tr style=\"text-align: right;\">\n",
       "      <th></th>\n",
       "      <th>COMMENT_ID</th>\n",
       "      <th>AUTHOR</th>\n",
       "      <th>DATE</th>\n",
       "      <th>CONTENT</th>\n",
       "      <th>CLASS</th>\n",
       "    </tr>\n",
       "  </thead>\n",
       "  <tbody>\n",
       "    <tr>\n",
       "      <th>0</th>\n",
       "      <td>LZQPQhLyRh80UYxNuaDWhIGQYNQ96IuCg-AYWqNPjpU</td>\n",
       "      <td>Julius NM</td>\n",
       "      <td>2013-11-07T06:20:48</td>\n",
       "      <td>Huh, anyway check out this you[tube] channel: ...</td>\n",
       "      <td>1</td>\n",
       "    </tr>\n",
       "    <tr>\n",
       "      <th>1</th>\n",
       "      <td>LZQPQhLyRh_C2cTtd9MvFRJedxydaVW-2sNg5Diuo4A</td>\n",
       "      <td>adam riyati</td>\n",
       "      <td>2013-11-07T12:37:15</td>\n",
       "      <td>Hey guys check out my new channel and our firs...</td>\n",
       "      <td>1</td>\n",
       "    </tr>\n",
       "    <tr>\n",
       "      <th>2</th>\n",
       "      <td>LZQPQhLyRh9MSZYnf8djyk0gEF9BHDPYrrK-qCczIY8</td>\n",
       "      <td>Evgeny Murashkin</td>\n",
       "      <td>2013-11-08T17:34:21</td>\n",
       "      <td>just for test I have to say murdev.com</td>\n",
       "      <td>1</td>\n",
       "    </tr>\n",
       "    <tr>\n",
       "      <th>3</th>\n",
       "      <td>z13jhp0bxqncu512g22wvzkasxmvvzjaz04</td>\n",
       "      <td>ElNino Melendez</td>\n",
       "      <td>2013-11-09T08:28:43</td>\n",
       "      <td>me shaking my sexy ass on my channel enjoy ^_^ ﻿</td>\n",
       "      <td>1</td>\n",
       "    </tr>\n",
       "    <tr>\n",
       "      <th>4</th>\n",
       "      <td>z13fwbwp1oujthgqj04chlngpvzmtt3r3dw</td>\n",
       "      <td>GsMega</td>\n",
       "      <td>2013-11-10T16:05:38</td>\n",
       "      <td>watch?v=vtaRGgvGtWQ   Check this out .﻿</td>\n",
       "      <td>1</td>\n",
       "    </tr>\n",
       "  </tbody>\n",
       "</table>\n",
       "</div>"
      ],
      "text/plain": [
       "                                    COMMENT_ID            AUTHOR  \\\n",
       "0  LZQPQhLyRh80UYxNuaDWhIGQYNQ96IuCg-AYWqNPjpU         Julius NM   \n",
       "1  LZQPQhLyRh_C2cTtd9MvFRJedxydaVW-2sNg5Diuo4A       adam riyati   \n",
       "2  LZQPQhLyRh9MSZYnf8djyk0gEF9BHDPYrrK-qCczIY8  Evgeny Murashkin   \n",
       "3          z13jhp0bxqncu512g22wvzkasxmvvzjaz04   ElNino Melendez   \n",
       "4          z13fwbwp1oujthgqj04chlngpvzmtt3r3dw            GsMega   \n",
       "\n",
       "                  DATE                                            CONTENT  \\\n",
       "0  2013-11-07T06:20:48  Huh, anyway check out this you[tube] channel: ...   \n",
       "1  2013-11-07T12:37:15  Hey guys check out my new channel and our firs...   \n",
       "2  2013-11-08T17:34:21             just for test I have to say murdev.com   \n",
       "3  2013-11-09T08:28:43   me shaking my sexy ass on my channel enjoy ^_^ ﻿   \n",
       "4  2013-11-10T16:05:38            watch?v=vtaRGgvGtWQ   Check this out .﻿   \n",
       "\n",
       "   CLASS  \n",
       "0      1  \n",
       "1      1  \n",
       "2      1  \n",
       "3      1  \n",
       "4      1  "
      ]
     },
     "execution_count": 4,
     "metadata": {},
     "output_type": "execute_result"
    }
   ],
   "source": [
    "file_names = ['Youtube01-Psy.csv','Youtube02-KatyPerry.csv','Youtube03-LMFAO.csv',\n",
    "              'Youtube04-Eminem.csv','Youtube05-Shakira.csv']\n",
    "filepath = './data'\n",
    "dataframes = [pd.read_csv(os.path.join(filepath,file_name)) for file_name in file_names]\n",
    "dataframes[0].head()"
   ]
  },
  {
   "cell_type": "markdown",
   "metadata": {},
   "source": [
    "To get a better sense of the data, let us print out the content for several reviews."
   ]
  },
  {
   "cell_type": "code",
   "execution_count": 5,
   "metadata": {},
   "outputs": [
    {
     "name": "stdout",
     "output_type": "stream",
     "text": [
      "please like :D https://premium.easypromosapp.com/voteme/19924/616375350﻿\n",
      "Hello! Do you like gaming, art videos, scientific experiments, tutorials,  lyrics videos, and much, much more of that? If you do please check out our  channel and subscribe to it, we've just started, but soon we hope we will  be able to cover all of our expectations... You can also check out what  we've got so far!﻿\n",
      "I'm only checking the views﻿\n",
      "http://www.ebay.com/itm/171183229277?ssPageName=STRK:MESELX:IT&amp;_trksid=p3984.m1555.l2649 ﻿\n",
      "http://ubuntuone.com/40beUutVu2ZKxK4uTgPZ8K﻿\n",
      "We are an EDM apparel company dedicated to bringing you music inspired  designs. Our clothing is perfect for any rave or music festival. We have  NEON crop tops, tank tops, t-shirts, v-necks and accessories! follow us on  Facebook or on instagraml for free giveaways news and more!! visit our site  at OnCueApparel﻿\n"
     ]
    }
   ],
   "source": [
    "for content in dataframes[0].CONTENT[14:20]:\n",
    "    print(content)"
   ]
  },
  {
   "cell_type": "markdown",
   "metadata": {},
   "source": [
    "### Cleaning the data <a id='1.1'></a>\n",
    "We see that there are several features we don't need such as COMMENT_ID, AUTHOR, and DATE.   We also see that within content, there are a lot of web links.   To make it easier to identify weblinks, we will substitute in the word WEBLINK for every instance of a URL.   The character /ufeff is also present in the file, which is most likely due to improperly decoding utf-16 as utf-8.   We define a function to remove this.   "
   ]
  },
  {
   "cell_type": "code",
   "execution_count": 6,
   "metadata": {
    "collapsed": true
   },
   "outputs": [],
   "source": [
    "def format_sentence(s):\n",
    "    ret_sent = re.sub('http\\S+','WEBLINK',s)\n",
    "    ret_sent = re.sub(r'\\\\ufeff','',ret_sent)\n",
    "    return ret_sent"
   ]
  },
  {
   "cell_type": "markdown",
   "metadata": {},
   "source": [
    "### Splitting the data into test and training sets <a id='1.2'></a>\n",
    "We will want to be able to test our data, so we will split the data into a test and training set.  The training set will be used along with cross validation to select the best model.  The model will then be evaluated by testing it on the test dataset.   "
   ]
  },
  {
   "cell_type": "code",
   "execution_count": 7,
   "metadata": {
    "collapsed": true
   },
   "outputs": [],
   "source": [
    "from sklearn.model_selection import train_test_split\n",
    "data = pd.concat(dataframes).reset_index(drop=True)\n",
    "X_train,X_test,y_train,y_test = train_test_split(data.CONTENT,data.CLASS)"
   ]
  },
  {
   "cell_type": "markdown",
   "metadata": {},
   "source": [
    "## Turning the sentences into useable vectors <a id='2'></a>\n",
    "If we want to use a machine learning algorithm to predict the number of sentences, then we need to find a mapping that will associate every word, and every sentence with a vector that we then can feed into our machine learning algorithm.   The simplest way to do this is to use the Bag of words model, or create vectors by finding the term-frequency inverse-document-frequency of each sentence.   "
   ]
  },
  {
   "cell_type": "markdown",
   "metadata": {},
   "source": [
    "### Bag of words Model <a id='2.1'></a>\n",
    "We will first use a bag of words model to turn each sentence into a unique vector.   The bag of words model is simply turning each word into a basis vector in a Hilbert space.  To form a vector for the words, we simply add the vectors for each word for each sentence.  Thus each sentence will be transformed into a vector that we can add to a machine learning model.  In this model, if we had the sentences \n",
    "* 'I ran to the store',\n",
    "* 'I ran across town',\n",
    "* 'I ran to work and to home',\n",
    "\n",
    "then we could form a basis set of the vectors ('I','ran','to','the','store','across','town','work','and','home').   The sentences would then be encoded as the vectors \n",
    "* (1,1,1,1,1,0,0,0,0,0)\n",
    "* (1,1,0,0,0,1,1,0,0,0)\n",
    "* (1,1,2,0,0,0,0,1,1,1)\n",
    "\n",
    "However, this model can still be improved.  For example, the words 'the', 'a', and 'of' occur so often that they are unlikely to help us classify comment.   These words that are common enough that they do not aid in distinguishing sentences are called stopwords.   Another limitation is that our implementation above would classify 'bag' and 'bags' as two different words.   For this bag-of-words model, we don't care about the verb tense or the s at the end of a word.  What we want to do is associate every word with a stem, that represents its most basic feature. ie. 'run' and 'running', and 'runs' might all be replaced by the same word 'ru'.  To achieve this, we will use a porter stemmer, which is found in the nltk.\n",
    "\n",
    "Another limitation is that words that only occur once during the document do not add any predictive power.  Because of this, we will ignore any words that occur less than five times.  \n",
    "\n",
    "### TFIDF <a id='2.2'></a>\n",
    "The vectors are not normalized now, and in fact can be improved using one more feature which mapping each count in a vector to its term frequency/inverse document frequency.   A term which appears five times in one comment is likely important.  This is referred to as the document frequency.  However, if that same term appears five times in every comment, then it is likely a commonly used word, 'the' for example.  This is the document frequency  The term frequency/inverse document frequency is simply the ratio of the term frequency to the inverse document frequency.   The precise definition is to let the number of times a term $t$ appears in document $d$ be $tf(t,d)$.   Let $n_d$ be the total number of documents in the corpus, and let $df(t)$ be the number of documents containing term $t$.  Then the term-frequency calculated in the sklearn TfidfVectorizer is $tfidf(t,d)$ is $$tfidf(t,d) = tf(t,d)\\cdot\\text{log}\\left(\\frac{1+n_d}{1+df(t)}+1\\right)$$  (Note, this differs slightly from the tfidf given in textbooks).  The resulting vectors are then normalized.    \n"
   ]
  },
  {
   "cell_type": "code",
   "execution_count": 8,
   "metadata": {},
   "outputs": [
    {
     "name": "stdout",
     "output_type": "stream",
     "text": [
      "(1467, 424)\n"
     ]
    }
   ],
   "source": [
    "from sklearn.feature_extraction.text import CountVectorizer\n",
    "from sklearn.feature_extraction.text import TfidfVectorizer\n",
    "import nltk\n",
    "from nltk.stem.porter import PorterStemmer\n",
    "def port_tokenizer(text):\n",
    "    words = re.split(r'\\s+',text.lower())\n",
    "    ps = PorterStemmer()\n",
    "    return [ps.stem(word) for word in words if not word in nltk.corpus.stopwords.words('english') and word]\n",
    "count_vect = CountVectorizer(preprocessor=format_sentence,tokenizer=port_tokenizer,min_df=5)\n",
    "tfidf_vect = TfidfVectorizer(preprocessor=format_sentence,tokenizer=port_tokenizer,min_df=5)\n",
    "X_train_bow = count_vect.fit_transform(X_train)\n",
    "X_train_tfidf = tfidf_vect.fit_transform(X_train)\n",
    "print(X_train_bow.shape)"
   ]
  },
  {
   "cell_type": "markdown",
   "metadata": {},
   "source": [
    "## Predicting spam vs ham <a id='3'></a>\n",
    "\n",
    "### Model evaluation criteria <a id='3.1'></a>\n",
    "Now that we have transformed our sentences into feature vectors, we can try several machine learning algorithms to predict whether or not a given word will be spam.  We also will need a way to evaluate our results.  Since in the real world, spam occurs infrequently compared to ham, a classifier which simply predicted everything as ham would have a high accuracy.  Because of this, accuracy is not the prefered way to measure the performance of a spam classifier.  Instead we will use a combination of precision and recall \n",
    "- precision: The number of true positives divided by the number of elements predicted to be true (true and false positives)\n",
    "- recall: The number of true positives divided by the number of all positives (true positives and false negatives)\n",
    "Since we want to maximize both of these at the same time, we will use the f1-score, which is defined as the product of precision and recall, divided by their mean.  $$f_1 = \\frac{\\text{precision}\\cdot\\text{recall}}{(\\text{precision}+\\text{recall})/2}$$\n"
   ]
  },
  {
   "cell_type": "code",
   "execution_count": 9,
   "metadata": {
    "collapsed": true
   },
   "outputs": [],
   "source": [
    "from sklearn.metrics import f1_score"
   ]
  },
  {
   "cell_type": "markdown",
   "metadata": {},
   "source": [
    "### Logistic Regression <a id='3.2'></a>\n",
    "The simplest model we could use to predict spam would be a logistic regression.   The logistic regression model will choose its parameters via a grid search which will alter the regularization term C.   We will also try using both the bag of words, and the tfidf vectors. "
   ]
  },
  {
   "cell_type": "code",
   "execution_count": 13,
   "metadata": {},
   "outputs": [
    {
     "name": "stdout",
     "output_type": "stream",
     "text": [
      "{'C': 1.4142135623730951}\n",
      "0.9323951034818209\n"
     ]
    },
    {
     "data": {
      "image/png": "[encoded data removed]",
      "text/plain": [
       "<matplotlib.figure.Figure at 0x280248c2048>"
      ]
     },
     "metadata": {},
     "output_type": "display_data"
    },
    {
     "name": "stdout",
     "output_type": "stream",
     "text": [
      "Test Set f1-score: 0.914\n"
     ]
    }
   ],
   "source": [
    "from sklearn.linear_model import LogisticRegression\n",
    "from sklearn.grid_search import GridSearchCV\n",
    "course_params = {'C':[2**x for x in range(-6,15,2)]}\n",
    "gs = GridSearchCV(LogisticRegression(class_weight='balanced'),course_params,n_jobs=-1,cv=5,scoring='f1')\n",
    "gs.fit(X_train_bow,y_train)\n",
    "fine_params = {'C':[gs.best_params_['C']*(2**x) for x in np.arange(-1.75,2,.25)]}\n",
    "gs = GridSearchCV(LogisticRegression(class_weight='balanced'),fine_params,n_jobs=-1,cv=5,scoring='f1')\n",
    "gs.fit(X_train_bow,y_train)\n",
    "print(gs.best_params_)\n",
    "print(gs.best_score_)\n",
    "sample_sizes = range(100,1000,10)\n",
    "train_bow,test_bow = list(),list()\n",
    "lr_bow = LogisticRegression(class_weight='balanced',C=gs.best_params_['C'])\n",
    "for sample_size in sample_sizes:\n",
    "    xs,ys= X_train[:sample_size],y_train[:sample_size]\n",
    "    count_vect = CountVectorizer(preprocessor=format_sentence,tokenizer=port_tokenizer)\n",
    "    xs_bow = count_vect.fit_transform(xs)\n",
    "    xs_train,xs_test,ys_train,ys_test = train_test_split(xs_bow,ys)\n",
    "    lr_bow.fit(xs_train,ys_train)\n",
    "    train_bow.append(f1_score(lr_bow.predict(xs_train),ys_train))\n",
    "    test_bow.append(f1_score(lr_bow.predict(xs_test),ys_test))\n",
    "plt.plot(sample_sizes,train_bow,c='r',label='training')\n",
    "plt.plot(sample_sizes,test_bow,c='b',label='test')\n",
    "plt.xlabel('no of samples')\n",
    "plt.ylabel('f1 score')\n",
    "plt.title('Bag of words, logistic regression learning curve')\n",
    "plt.show()\n",
    "Xs_test = count_vect.transform(X_test)\n",
    "print(\"Test Set f1-score: {:.3}\".format(f1_score(lr_bow.predict(Xs_test),y_test)))"
   ]
  },
  {
   "cell_type": "code",
   "execution_count": 14,
   "metadata": {
    "scrolled": true
   },
   "outputs": [
    {
     "name": "stdout",
     "output_type": "stream",
     "text": [
      "{'C': 1.681792830507429}\n",
      "0.9250805274729496\n"
     ]
    },
    {
     "data": {
      "image/png": "[encoded data removed]",
      "text/plain": [
       "<matplotlib.figure.Figure at 0x280248c2d30>"
      ]
     },
     "metadata": {},
     "output_type": "display_data"
    },
    {
     "name": "stdout",
     "output_type": "stream",
     "text": [
      "Test Set f1-score: 0.932\n"
     ]
    }
   ],
   "source": [
    "course_params = {'C':[2**x for x in range(-6,15,2)]}\n",
    "gs = GridSearchCV(LogisticRegression(class_weight='balanced'),course_params,n_jobs=-1,cv=5,scoring='f1')\n",
    "gs.fit(X_train_tfidf,y_train)\n",
    "fine_params = {'C':[gs.best_params_['C']*(2**x) for x in np.arange(-1.75,2,.25)]}\n",
    "gs = GridSearchCV(LogisticRegression(class_weight='balanced'),fine_params,n_jobs=-1,cv=5,scoring='f1')\n",
    "gs.fit(X_train_tfidf,y_train)\n",
    "print(gs.best_params_)\n",
    "print(gs.best_score_)\n",
    "sample_sizes = range(100,1000,10)\n",
    "train_tfidf,test_tfidf = list(),list()\n",
    "lr_tfidf = LogisticRegression(class_weight='balanced',C=gs.best_params_['C'])\n",
    "for sample_size in sample_sizes:\n",
    "    xs,ys= X_train[:sample_size],y_train[:sample_size]\n",
    "    tfidf_vect = TfidfVectorizer(preprocessor=format_sentence,tokenizer=port_tokenizer)\n",
    "    xs_tfidf = tfidf_vect.fit_transform(xs)\n",
    "    xs_train,xs_test,ys_train,ys_test = train_test_split(xs_tfidf,ys)\n",
    "    lr_tfidf.fit(xs_train,ys_train)\n",
    "    train_tfidf.append(f1_score(lr_tfidf.predict(xs_train),ys_train))\n",
    "    test_tfidf.append(f1_score(lr_tfidf.predict(xs_test),ys_test))\n",
    "plt.plot(sample_sizes,train_bow,c='r',label='training')\n",
    "plt.plot(sample_sizes,test_bow,c='b',label='test')\n",
    "plt.xlabel('no of samples')\n",
    "plt.ylabel('f1 score')\n",
    "plt.title('TFIDF vectors, logistic regression learning curve')\n",
    "plt.show()\n",
    "Xs_test = tfidf_vect.transform(X_test)\n",
    "print(\"Test Set f1-score: {:.3}\".format(f1_score(lr_tfidf.predict(Xs_test),y_test)))"
   ]
  },
  {
   "cell_type": "markdown",
   "metadata": {},
   "source": [
    "We can see that the simple bow model gets a slightly higher f1 score then the tfidf.  We can also note that because of the large dimension of the feature space, that the model achieves near perfect accuracy on the training set.   "
   ]
  },
  {
   "cell_type": "markdown",
   "metadata": {},
   "source": [
    "### Bayesian spam filtering <a id='3.3'></a>\n",
    "\n",
    "Bayesian spam filtering is one of the oldest types of spam filtering out there.   The original papers covering this method were first published in 1998 [[2](http://www.paulgraham.com/better.html)].   However, further improvements came in 2003, when Paul Graham published an article in which he devised a better way to classify spam emails [[2](http://www.paulgraham.com/better.html)].   \n",
    "\n",
    "For this section, we will rely on the most simple version of a Bayesian spam filter we can create.  We will start by initially representing sentences as a set of unique words.  What we want to know is the probability that a message is spam given its set of words $P(S\\mid\\{w_1,w_2,...,w_n\\})$, or the probability that a message is ham given its words $P(H\\mid\\{w_1,w_2,...,w_n\\})$.   Using Bayes rule, we can rewrite these probabilities as $$P(s\\mid\\{w_1,w_2,...\\}) \\propto P(\\{w_1,w_2,...\\}\\mid s)P(s) $$ where $s$ represents either spam or ham.   \n",
    "\n",
    "While this expression is not terribly enlightening, if we will make the assumption that the probability of each word appearing is independent, ie. $$P(\\{w_1,w_2,...,w_n\\}) = \\prod_iP(w_i)$$\n",
    "then we can rewrite the probability as $$P(s\\mid\\{w_1,w_2,...w_n\\})\\propto P(\\{w_1,w_2,...,w_n\\}\\mid s)P(s) = \\left(\\prod_iP(w_i\\mid s)\\right) P(s)$$ where $s$ represent either Spam or Ham.    While this assumption is no doubt not false since there are correlations between the frequencies of words, it allows us to write an easily calculable expression for the probability of a word being spam.   In addition, as we will see, the assumption turns out to yield decent results.   \n",
    "\n",
    "However, when we use this method, we still have the problem of words with zero frequency showing up.   To deal with this we will use laplace (add 1) smoothing where we define $$p(w_i\\mid s) = \\frac{\\text{count}_s(w_i)+1}{\\sum_j \\text{count}(w_j)+1} $$ where count$_s(w_i)$ is the number of messages in $s$ that contain the word $w_i$.    To avoid floating-point underflow, we typically calculate $$\\text{log}\\,P(s\\mid\\{w_1,...,w_n\\}) = \\text{log}P(s)+\\sum_{i=1}^N\\text{log}P(w_i,s) $$ rather than $P(s\\mid\\{w_1,...w_n\\})$\n",
    "\n",
    "To avoid the problem of rare words, we will also include a minimum document frequency necessary for us to consider a word.  We will then make predictions based on whether or not the log probability of the email being ham is greater than the log probability of the email being spam, however, we could also adjust the cutoff quite easily \n",
    "\n"
   ]
  },
  {
   "cell_type": "code",
   "execution_count": 18,
   "metadata": {},
   "outputs": [
    {
     "name": "stdout",
     "output_type": "stream",
     "text": [
      "the f1 score on the training set is: 0.87 +/- 0.03\n"
     ]
    },
    {
     "data": {
      "image/png": "[encoded data removed]",
      "text/plain": [
       "<matplotlib.figure.Figure at 0x280248f77b8>"
      ]
     },
     "metadata": {},
     "output_type": "display_data"
    },
    {
     "name": "stdout",
     "output_type": "stream",
     "text": [
      "The f1 score on the test set is 0.87\n"
     ]
    }
   ],
   "source": [
    "from sklearn.base import BaseEstimator\n",
    "from sklearn.model_selection import cross_val_score\n",
    "class BayesianSpamClassifier(BaseEstimator):\n",
    "    \"\"\"Provides a bayesian estimator of whether or \"\"\"\n",
    "    def __init__(self,min_df=5):\n",
    "        self.min_df = min_df\n",
    "    def fit(self,X,y):\n",
    "        spam = X[y.values.astype(bool)]>0\n",
    "        ham = X[~y.values.astype(bool)]>0\n",
    "        self.ham= ham\n",
    "        self.spam=spam\n",
    "        self.valid_indices = (X.sum(axis=0)>=self.min_df).astype(bool)\n",
    "        prob_word_given_spam = (spam.sum(axis=0)+1)/((spam.sum(axis=0)+1).sum())\n",
    "        self.prob_word_given_spam = prob_word_given_spam[self.valid_indices]\n",
    "        prob_word_given_ham = (ham.sum(axis=0)+1)/((ham.sum(axis=0)+1).sum())\n",
    "        self.prob_word_given_ham = prob_word_given_ham[self.valid_indices]\n",
    "        self.prob_spam = y.sum()/y.shape[0]\n",
    "        self.prob_ham = 1-self.prob_spam\n",
    "    def predict(self,X):\n",
    "        prob_ham = self.prob_ham\n",
    "        prob_spam = self.prob_spam\n",
    "        prob_word_given_spam = self.prob_word_given_spam\n",
    "        prob_word_given_ham = self.prob_word_given_ham\n",
    "        X = X[:,self.valid_indices]>0\n",
    "        log_prob_ratio_spam_ham = X.dot(np.log((prob_word_given_spam.T)/(prob_word_given_ham.T)))+np.log(prob_spam/prob_ham)\n",
    "        return log_prob_ratio_spam_ham>0\n",
    "cv = cross_val_score(BayesianSpamClassifier(2),X_train_bow.toarray(),y_train,\n",
    "                     cv=10,scoring='f1')\n",
    "print('the f1 score on the training set is: {:.2f} +/- {:.2f}'.format(cv.mean(),cv.std()))\n",
    "\n",
    "train_bow=list()\n",
    "test_bow=list()\n",
    "for sample_size in sample_sizes:\n",
    "    xs,ys= X_train[:sample_size],y_train[:sample_size]\n",
    "    bc_bow =BayesianSpamClassifier(2)\n",
    "    count_vect = CountVectorizer(preprocessor=format_sentence,tokenizer=port_tokenizer)\n",
    "    xs_bow = count_vect.fit_transform(xs)\n",
    "    xs_train,xs_test,ys_train,ys_test = train_test_split(xs_bow,ys)\n",
    "    bc_bow.fit(xs_train.toarray(),ys_train)\n",
    "    train_bow.append(f1_score(bc_bow.predict(xs_train.toarray()),ys_train))\n",
    "    test_bow.append(f1_score(bc_bow.predict(xs_test.toarray()),ys_test))\n",
    "plt.plot(sample_sizes,train_bow,c='r',label='training')\n",
    "plt.plot(sample_sizes,test_bow,c='b',label='test')\n",
    "plt.xlabel('no of samples')\n",
    "plt.ylabel('f1 score')\n",
    "plt.title('Naive bayes learning curve')\n",
    "plt.show()\n",
    "xs_test = count_vect.transform(X_test)\n",
    "print(\"The f1 score on the test set is {:.2f}\".format(f1_score(bc_bow.predict(xs_test),y_test)))"
   ]
  },
  {
   "cell_type": "markdown",
   "metadata": {},
   "source": [
    "We can see that with this incredibly simple Bayesian classifier, we can achieve a high f1 score on the training set.   "
   ]
  },
  {
   "cell_type": "markdown",
   "metadata": {},
   "source": [
    "## Neural networks for spam classification <a id='4'></a> \n",
    "\n",
    "We can also take a deep learning approach to spam classification.  There are several approaches to classifying spam using neural networks; however, the model I will use for text classification will be a simple recurrent neural network (RNN) modeled in tensorflow.  An RNN is a type of neural network that allows us to model sequences of arbitrary lengths using one set of parameters.   The basic setup for one is show below: ![A simple RNN](files/images/rnn.png)\n",
    "**source: cs224 at stanford lecture notes, [[3](http://cs224d.stanford.edu)]**\n",
    "\n",
    "The inputs $x_i$ are individual vectors representing each word.   Each node in the RNN takes two inputs, $x_i$ which represents the input of the $i$th word vector, and $h_{i-1}$ which represents the output from the $i-1$th node.   The nodes in tern generate two outputs, $y_i$ and $h_i$, where $h_i$ is than fed in as an input to the next node.   The nodes furthermore all share the same matrices, $W_{hh}$, $W_{xh}$, and $W_S$, which are used to generate the outputs.  \n",
    "\n",
    "* $y_i = \\text{softmax}(W_Sh_i)$\n",
    "* $h_i = \\sigma(W_{hh}h_{i-1}+W_{hx}x_i) $\n",
    "\n",
    "where $\\sigma$ is the sigmoid function.   The benefit from a neural network like this is that the output of the $i$th node depends not just on $x_i$ but also on $x_{i-1}$, $x_{i-2}$ and so on.  For sentence processing, the steps are as follows:\n",
    "\n",
    "1. We start by encoding all of the words as vectors in a $D_w$ space, transforming an $n$ word sentence into a $n\\times D_w$ tensor.  \n",
    "2. We transform a sentence into a length $n_s$ vector by  feeding the sentence words into a RNN, where each output is a  $n_{s}$ vector.  We take the last output of the RNN (which depends on all words in the RNN to be the sentence vector.\n",
    "3. We add in one additional layer to the neural network to map us from $n_s$ to $n_c$ where $n_c$ is the number of possible predicted labels (in this case 2).   \n",
    "4. We train this neural network using gradient descent.   \n",
    "\n",
    "\n",
    "We will construct this operation by using the popular library, tensorflow, to build our neural network, and gensim, to encode the word vectors.  Tensorflow is an open source package written in optimized c++ and python, which can be used to build fast neural networks.   "
   ]
  },
  {
   "cell_type": "markdown",
   "metadata": {},
   "source": [
    "## Word encodings <a id='4.1'></a>\n",
    "\n",
    "To encode the words as vectors, we will use the gensim library and its word2vec encoder.   The word2vec encoder I will use in this case determines the embeddings of a word by considering what words often occur near that word.   For example, if president and prime minister occurred often together, the resulting vectors in the embedding would also appear close together.   However, the word 'president' and the word 'prime-rib' would appear distant.   The word2vec is a useful encoder since it also can preserve analogies.  For example, the vector that points from man to king, is nearly the same as the vector that points from woman to queen, and the vector that points from cow to beef will be nearly the same as the vector that points from sheep to mutton.   \n",
    "\n",
    "To simplify the words more, we will first use a porter tokenizer to stem and tokenize all words before creating word embeddings.  This will reduce the noise associated with our small sample size.  "
   ]
  },
  {
   "cell_type": "code",
   "execution_count": 12,
   "metadata": {},
   "outputs": [
    {
     "name": "stderr",
     "output_type": "stream",
     "text": [
      "C:\\Users\\Michael\\Anaconda3\\envs\\tensorflow\\lib\\site-packages\\gensim\\utils.py:860: UserWarning: detected Windows; aliasing chunkize to chunkize_serial\n",
      "  warnings.warn(\"detected Windows; aliasing chunkize to chunkize_serial\")\n"
     ]
    }
   ],
   "source": [
    "from gensim.models import Word2Vec\n",
    "format_sentence, port_tokenizer\n",
    "def process_data(X,y,embedding_dim=10,sentence_length=10):\n",
    "    \"\"\"Loads the text data and processes it into a padded array, and returns\n",
    "    the array along with sentence lengths\n",
    "    \n",
    "    Parameters:\n",
    "    --------------\n",
    "    X: iterable array, shape = [n_samples,]\n",
    "        entries consist of unprocessed sentences (i.e. text)\n",
    "    y: iterable array, shape = [n_samples], \n",
    "        entries consist of 0 or 1\n",
    "    embedding_dim: int, default 10: the size of word vectors in the model\n",
    "    sentence_length: int, default 10: the maximum sentence length to consider,\n",
    "                     longer sentences will be shortened\n",
    "    \n",
    "    Returns:\n",
    "    tuple consisting of X,y,length\n",
    "    X: array, shape = [n_samples,sentence_length,embedding_dim] \n",
    "    y: array, shape = [n_samples,2]\n",
    "    length:, array, shape = [n_samples]\n",
    "    \"\"\"\n",
    "    if(type(X)!=type(pd.Series())):\n",
    "        X = pd.Series(X)\n",
    "    if(type(y)!=type(pd.Series())):\n",
    "        y =pd.Series(y)\n",
    "    X = X.apply(format_sentence)\n",
    "    X = X.apply(port_tokenizer)\n",
    "    wv=Word2Vec(X,size=embedding_dim).wv\n",
    "    X = X.apply(lambda ls:[list(wv[word]) for word in ls if\n",
    "                                              word in wv.vocab])\n",
    "    lengths = X.apply(lambda x:len(x) if len(x)<sentence_length else sentence_length)\n",
    "    pad = [0. for i in range(embedding_dim)]\n",
    "    X = X.apply(lambda ls:[ls[i] if i<len(ls) else pad for i in range(sentence_length)])\n",
    "    X = X[lengths>0]\n",
    "    y = y[lengths>0]\n",
    "    lengths = lengths[lengths>0]\n",
    "    y = y.apply(lambda x:[1,0] if x else [0,1])\n",
    "    return list(X),list(y),list(lengths)\n"
   ]
  },
  {
   "cell_type": "markdown",
   "metadata": {},
   "source": [
    "### Recurrent Neural Networks: <a id='4.2'></a>\n",
    "\n",
    "The diagram for the network is shown below. ![nn](images/RNN_SPAM.jpg)\n",
    "\n",
    "In tensorflow’s implementation of a simple RNN Cell, the outputs $y_i$ and $h_i$ are equal to each other, and are given by $$y_i=h_i =  \\text{activation}(V x_i + U  h_{i-1} + b)$$ where $V$ and $U$ are matrices, and $b$ is the bias term.  The activations of the output neurons $p(s)$ are then given by $$ p(s) = \\text{softmax}(W\\cdot h_l+b) $$ where $h_l$ is the last output from the rnn, and $W$ is a tensor.   The predictions are made based on which class has the higher activation.   "
   ]
  },
  {
   "cell_type": "code",
   "execution_count": 43,
   "metadata": {
    "scrolled": false
   },
   "outputs": [
    {
     "name": "stdout",
     "output_type": "stream",
     "text": [
      "Epoch 0, Minibatch Loss=0.695174, training accuracy=0.53786, f1=0.31097\n",
      "Epoch 10, Minibatch Loss=0.506783, training accuracy=0.77786, f1=0.62164\n",
      "Epoch 20, Minibatch Loss=0.443050, training accuracy=0.82071, f1=0.70598\n",
      "Epoch 30, Minibatch Loss=0.401696, training accuracy=0.82714, f1=0.74057\n",
      "Epoch 40, Minibatch Loss=0.344797, training accuracy=0.87643, f1=0.76531\n",
      "Epoch 50, Minibatch Loss=0.275072, training accuracy=0.90071, f1=0.79068\n",
      "Epoch 60, Minibatch Loss=0.241347, training accuracy=0.92214, f1=0.81207\n",
      "Epoch 70, Minibatch Loss=0.218190, training accuracy=0.93357, f1=0.82840\n",
      "Epoch 80, Minibatch Loss=0.198180, training accuracy=0.94643, f1=0.84272\n",
      "Epoch 90, Minibatch Loss=0.183019, training accuracy=0.95714, f1=0.85523\n",
      "Epoch 100, Minibatch Loss=0.171754, training accuracy=0.96000, f1=0.86582\n",
      "Epoch 110, Minibatch Loss=0.163260, training accuracy=0.96143, f1=0.87453\n",
      "Epoch 120, Minibatch Loss=0.156768, training accuracy=0.96643, f1=0.88221\n",
      "Epoch 130, Minibatch Loss=0.151580, training accuracy=0.96714, f1=0.88881\n",
      "Epoch 140, Minibatch Loss=0.147150, training accuracy=0.96714, f1=0.89450\n",
      "Epoch 150, Minibatch Loss=0.143209, training accuracy=0.96857, f1=0.89947\n",
      "Epoch 160, Minibatch Loss=0.139636, training accuracy=0.96857, f1=0.90385\n",
      "Epoch 170, Minibatch Loss=0.136356, training accuracy=0.97000, f1=0.90779\n",
      "Epoch 180, Minibatch Loss=0.133312, training accuracy=0.97000, f1=0.91129\n",
      "Epoch 190, Minibatch Loss=0.130451, training accuracy=0.97286, f1=0.91447\n",
      "Epoch 200, Minibatch Loss=0.127734, training accuracy=0.98000, f1=0.91764\n",
      "Epoch 210, Minibatch Loss=0.125131, training accuracy=0.98000, f1=0.92061\n",
      "Epoch 220, Minibatch Loss=0.122631, training accuracy=0.98000, f1=0.92331\n",
      "Epoch 230, Minibatch Loss=0.120247, training accuracy=0.98000, f1=0.92577\n",
      "Epoch 240, Minibatch Loss=0.117982, training accuracy=0.98000, f1=0.92802\n",
      "INFO:tensorflow:Restoring parameters from /temp/model.ckpt\n",
      "Model restored.\n",
      "Testing Loss=0.955797, testing accuracy= 0.74865, f1=0.74380 \n"
     ]
    }
   ],
   "source": [
    "class Config():\n",
    "    \"\"\" A class to hold the settings for neural network.\n",
    "    \"\"\"\n",
    "    learning_rate=.001\n",
    "    batch_size=100\n",
    "    max_epochs=250\n",
    "\n",
    "    #length of word vectors\n",
    "    n_input=10\n",
    "    #max no of words per sentence\n",
    "    n_steps=10\n",
    "    n_classes=2\n",
    "    #size of hidden RNN layer(i.e. length of sentence features)\n",
    "    n_hidden=10\n",
    "    #regularization parameter\n",
    "    l2=.01\n",
    "\n",
    "class RNN(BaseEstimator):\n",
    "    \"\"\" A class for a simple variable length RNN to classify sentences.  The sentences\n",
    "    must be preprocessed into arrays of word vectors prior to using the RNN.\n",
    "\n",
    "    Parameters:\n",
    "    -------------\n",
    "    x_train: array, shape = [n_samples,n_steps,n_input]\n",
    "        training data, n_steps refers to the number of words per sentence,\n",
    "        n_input refers to the number of features per word.   Sentences smaller\n",
    "        then n_steps must be padded with vectors to ensure each sample contains\n",
    "        an array of the same size.\n",
    "\n",
    "    x_test: array, shape = [n_samples,n_steps,n_input]\n",
    "        test data, same conditions as apply to x_train\n",
    "\n",
    "    y_train: array shape = [n_samples,n_classes]\n",
    "        test data.  The data must be in the form of one hot vectors for each\n",
    "        predicted class\n",
    "\n",
    "    y_test: array shape = [n_samples,n_classes]\n",
    "        test data, same conditions as apply to y_train\n",
    "\n",
    "    length_train: int array or list, shape = [n_samples]\n",
    "        The length of each training sentence before padding.\n",
    "\n",
    "    length_test: int array or list, shape = [n_samples]\n",
    "        The lengths of each test sentence before padding\n",
    "\n",
    "    self.config: object which holds configuration parameters\n",
    "        config.learning rate: float, default: .001\n",
    "            The learning rate used in minibatch stochastic gradient descent\n",
    "        config.batch_size: int, default: 100\n",
    "            The size of minibatches fed into the NN for training.\n",
    "        config.max_epochs: int, default: 50\n",
    "            number of times to iterate over the training data for stochastic gradient descent\n",
    "        config.n_input: int, default: 10\n",
    "            length of embedding vectors for words\n",
    "        config.n_steps: int, default: 10\n",
    "            maximum number of words per sentence\n",
    "        config.n_classes: int default: 2\n",
    "            number of classes to predict\n",
    "        config.n_hidden: int, default=10,\n",
    "            size of vectors in RNN, represents the number of features per sentence\n",
    "    \"\"\"\n",
    "    def __init__(self,config,cell_type='rnn'):\n",
    "        self.config=config\n",
    "        self.cell_type=cell_type\n",
    "\n",
    "    def add_placeholders(self):\n",
    "        \"\"\"Initializes the placeholders to be used in the calculation\"\"\"\n",
    "        n_steps = self.config.n_steps\n",
    "        n_input = self.config.n_input\n",
    "        n_classes = self.config.n_classes\n",
    "        self.x_input = tf.placeholder(tf.float32,shape=[None,n_steps,n_input])\n",
    "        self.y_input  = tf.placeholder(tf.float32,shape=[None,n_classes])\n",
    "        self.length_input = tf.placeholder(tf.int32,shape=[None])\n",
    "        self.dropout = tf.placeholder(tf.float32)\n",
    "\n",
    "    def get_batch(self,i,X,y,lengths):\n",
    "        \"\"\" returns the ith mini-batch of the training data\n",
    "        Parameters:\n",
    "        -------------\n",
    "        i: int, which batch of training data to return\n",
    "        X: arraylike, shape = [n_samples,n_steps,n_input]\n",
    "            The training data\n",
    "        y: arraylike, int, shape = [n_samples,n_classes]\n",
    "            the class labels\n",
    "        lengths: arraylike, int, shape = [n_samples]\n",
    "            the lengths of each encoded sentence before \n",
    "            padding is added\n",
    "\n",
    "        Returns:\n",
    "        --------------\n",
    "        tuple consisting of batches for X,y, and length\n",
    "        \"\"\"\n",
    "        return X[i:i+self.config.batch_size],\\\n",
    "                 y[i:i+self.config.batch_size],\\\n",
    "                  lengths[i:i+self.config.batch_size]\n",
    "\n",
    "    def initialize_variables(self):\n",
    "        \"\"\" Initializes the variables to be used in the tensorflow graph.\n",
    "        \"\"\"\n",
    "        n_hidden = self.config.n_hidden\n",
    "        n_classes = self.config.n_classes\n",
    "        with tf.variable_scope('RNN'):\n",
    "            weights = tf.get_variable('W',shape=[n_hidden,n_classes])\n",
    "            biases = tf.get_variable('b',shape=[n_classes])\n",
    "\n",
    "    def predict(self,X,lengths,reuse_var=False):\n",
    "        \"\"\"returns the logits predicted for each sentence\n",
    "\n",
    "        Parameters:\n",
    "        ---------------\n",
    "        X, arraylike, shape=[n_samples,n_steps,n_features]\n",
    "            preprocessed sentence arrays\n",
    "        lengths, arraylike, shape=[n_samples] list of words\n",
    "            per sentence before padding is added\n",
    "\n",
    "        Returns:\n",
    "        --------------\n",
    "        logits, arraylike, shape = [n_samples,n_classes]\n",
    "            predicted logits for each class\n",
    "        \"\"\"\n",
    "        n_steps = self.config.n_steps\n",
    "        n_hidden = self.config.n_hidden\n",
    "        with tf.variable_scope('RNN',reuse=reuse_var):\n",
    "            if self.cell_type=='rnn':\n",
    "                rnn_cell = tf.contrib.rnn.BasicRNNCell(n_hidden,reuse=reuse_var)\n",
    "            elif self.cell_type=='lstm':\n",
    "                rnn_cell = tf.contrib.rnn.BasicLSTMCell(n_hidden,reuse=reuse_var,forget_bias=.6)\n",
    "            outputs,states = tf.nn.dynamic_rnn(rnn_cell,\n",
    "                                sequence_length=lengths,inputs=X,\n",
    "                                time_major=False,dtype=tf.float32)\n",
    "\n",
    "        with tf.variable_scope('RNN',reuse=True):\n",
    "            W = tf.get_variable('W')\n",
    "            b = tf.get_variable('b')\n",
    "        output_list = tf.unstack(outputs,n_steps,1)\n",
    "        batch_size = tf.shape(outputs)[0]\n",
    "        last_rnn_output = tf.gather_nd(outputs,tf.stack([tf.range(\n",
    "            batch_size),lengths-1],axis=1))\n",
    "        return tf.matmul(last_rnn_output,W)+b\n",
    "    \n",
    "    def get_cost(self,pred,y):\n",
    "        cost=tf.reduce_mean(tf.nn.softmax_cross_entropy_with_logits(\n",
    "                logits=pred,labels=y))\n",
    "        return cost\n",
    "    \n",
    "    def optimize(self,pred,y):\n",
    "        \"\"\"Adds the optimization layer to the graph.\n",
    "\n",
    "        Parameters:\n",
    "        ---------------\n",
    "        pred: arraylike, shape = [n_samples,n_classes]\n",
    "            logits for predicted class labels\n",
    "        y: arraylike, shape = [n_samples,n_classes]\n",
    "            one hot vector corresponding to actual values.\n",
    "        returns:\n",
    "        ------------\n",
    "        tuple consisting of cost and optimizer,\n",
    "        cost: float, total cost associated with predictions and actual values,\n",
    "            uses cross entropy to compute the cost.\n",
    "        optimizer:\n",
    "            Adam optimizer to reduce the cost.\n",
    "        \"\"\"\n",
    "        cost = tf.reduce_mean(tf.nn.softmax_cross_entropy_with_logits(\n",
    "            logits=pred,labels=y))\n",
    "        with tf.variable_scope('RNN',reuse=True):\n",
    "            cost += self.config.l2*tf.nn.l2_loss(tf.get_variable('W'))\n",
    "        optimizer = tf.train.AdamOptimizer(learning_rate=self.config.\\\n",
    "                                           learning_rate).minimize(cost)\n",
    "        return cost,optimizer\n",
    "\n",
    "\n",
    "    def train(self,X,y,lengths,verbose=False):\n",
    "        \"\"\"Trains the neural network given a batch of training data (X,y,length)\n",
    "        Parameters:\n",
    "        --------------\n",
    "        X: array, shape = [n_samples,n_steps,n_input]\n",
    "            training data, n_steps refers to the number of words per sentence,\n",
    "            n_input refers to the number of features per word.   Sentences smaller\n",
    "            then n_steps must be padded with vectors to ensure each sample contains\n",
    "            an array of the same size.\n",
    "\n",
    "        y: array, shape = [n_samples,n_classes]\n",
    "            test data.  The data must be in the form of one hot vectors for each\n",
    "            predicted class\n",
    "\n",
    "        length: array or list, int, shape = [n_samples]\n",
    "            The length of each training sentence before padding.\n",
    "        \"\"\"\n",
    "        self.add_placeholders()\n",
    "        self.initialize_variables()\n",
    "        logits = self.predict(self.x_input,self.length_input)\n",
    "        cost,optimizer = self.optimize(logits,self.y_input)\n",
    "        y_pred = tf.argmax(logits,1)\n",
    "        labels  = tf.argmax(self.y_input,1)\n",
    "        precision,prec_update = tf.contrib.metrics.streaming_precision(y_pred,labels)\n",
    "        recall,recall_update = tf.contrib.metrics.streaming_recall(y_pred,labels)\n",
    "        correct_pred = tf.equal(tf.argmax(logits,1),tf.argmax(self.y_input,1))\n",
    "        \n",
    "        accuracy = tf.reduce_mean(tf.cast(correct_pred,tf.float32))\n",
    "        self.saver = tf.train.Saver()\n",
    "        with tf.Session() as sess:\n",
    "            sess.run(tf.global_variables_initializer())\n",
    "            sess.run(tf.local_variables_initializer())\n",
    "            best_val_epoch=0\n",
    "\n",
    "            for epoch in range(config.max_epochs):\n",
    "                av_acc,av_loss,av_f1 = [],[],[]\n",
    "                for i in range(len(X)//self.config.batch_size):\n",
    "                    batch_x,batch_y,batch_length = self.get_batch(i,X,y,lengths)\n",
    "                    fd = {self.x_input:batch_x,self.y_input:batch_y,\n",
    "                          self.length_input:batch_length}\n",
    "                    sess.run(optimizer,feed_dict=fd)\n",
    "                    acc,loss = sess.run((accuracy,cost),feed_dict=fd)\n",
    "                    sess.run((prec_update,recall_update),feed_dict=fd)\n",
    "                    av_acc.append(acc)\n",
    "                    av_loss.append(loss)\n",
    "                loss = np.array(av_loss).mean()\n",
    "                acc = np.array(av_acc).mean()\n",
    "                p,r = sess.run((precision,recall))\n",
    "                f1_score = 2*p*r/(p+r)\n",
    "                if verbose and epoch%10==0:\n",
    "                    print(\"Epoch {}, Minibatch Loss={:.6f}, training accuracy={:.5f}, f1={:.5f}\"\\\n",
    "                              .format(epoch,loss,acc,f1_score))\n",
    "            self.saver.save(sess,'/temp/model.ckpt')\n",
    "            \n",
    "    def test(self,X,y,lengths):\n",
    "        logits = self.predict(self.x_input,self.length_input,reuse_var=True)\n",
    "        cost = self.get_cost(logits,self.y_input)\n",
    "        correct_pred = tf.equal(tf.argmax(logits,1),tf.argmax(self.y_input,1))\n",
    "        accuracy = tf.reduce_mean(tf.cast(correct_pred,tf.float32))\n",
    "        y_pred = tf.argmax(logits,1)\n",
    "        labels  = tf.argmax(self.y_input,1)\n",
    "        precision,prec_update = tf.contrib.metrics.streaming_precision(y_pred,labels)\n",
    "        recall,recall_update = tf.contrib.metrics.streaming_recall(y_pred,labels)\n",
    "        with tf.Session() as sess:\n",
    "            self.saver.restore(sess, \"/temp/model.ckpt\")\n",
    "            print(\"Model restored.\")\n",
    "            sess.run(tf.local_variables_initializer())\n",
    "            cost,test_acc = sess.run((cost,accuracy),feed_dict={self.x_input:X,\n",
    "                                                    self.y_input:y,\n",
    "                                                    self.length_input:lengths})\n",
    "            sess.run((prec_update,recall_update),feed_dict={self.x_input:X,\n",
    "                                                    self.y_input:y,\n",
    "                                                    self.length_input:lengths})\n",
    "            p,r = sess.run((precision,recall))\n",
    "            f1_score = 2*p*r/(p+r)\n",
    "            print(\"Testing Loss={:.6f}, testing accuracy= {:.5f}, f1={:.5f} \".format(cost,test_acc,f1_score))\n",
    "tf.reset_default_graph()\n",
    "config = Config()\n",
    "rnn = RNN(config)\n",
    "X,y,lengths = process_data(data.CONTENT,data.CLASS)\n",
    "X_train,X_test,y_train,y_test,lengths_train,lengths_test = \\\n",
    "        train_test_split(X,y,lengths,train_size=.8)\n",
    "rnn.train(X_train,y_train,lengths_train,verbose=True)\n",
    "rnn.test(X_test,y_test,lengths_test)"
   ]
  },
  {
   "cell_type": "markdown",
   "metadata": {},
   "source": [
    "From this, we can see that a neural network can achieve an f1 score of ~.74.   While this is substantially lower than the naive bayes and logistic regression we encountered, this is still a decent result.   The training set size is smaller than would be wanted for training the neural network, which means that several words will only occur once, and that the model is at a high risk of overfitting the relatively small amount of data.   \n",
    "\n",
    "As a final test, we can explore what would happen if we slightly changed the neural network.   In the class shown below, we use LSTM cells rather than simple RNN cells.  We see however, that the results are still similar to the results using an rnn cell.   "
   ]
  },
  {
   "cell_type": "code",
   "execution_count": 45,
   "metadata": {
    "scrolled": true
   },
   "outputs": [
    {
     "name": "stdout",
     "output_type": "stream",
     "text": [
      "Epoch 0, Minibatch Loss=0.918701, training accuracy=0.47286, f1=0.64210\n",
      "Epoch 10, Minibatch Loss=0.591684, training accuracy=0.70786, f1=0.62791\n",
      "Epoch 20, Minibatch Loss=0.543178, training accuracy=0.80500, f1=0.68384\n",
      "Epoch 30, Minibatch Loss=0.494220, training accuracy=0.81857, f1=0.71931\n",
      "Epoch 40, Minibatch Loss=0.388580, training accuracy=0.86000, f1=0.74695\n",
      "Epoch 50, Minibatch Loss=0.330375, training accuracy=0.88429, f1=0.77270\n",
      "Epoch 60, Minibatch Loss=0.295889, training accuracy=0.89357, f1=0.79284\n",
      "Epoch 70, Minibatch Loss=0.284903, training accuracy=0.89571, f1=0.80709\n",
      "Epoch 80, Minibatch Loss=0.275190, training accuracy=0.90214, f1=0.81836\n",
      "Epoch 90, Minibatch Loss=0.267043, training accuracy=0.90500, f1=0.82779\n",
      "Epoch 100, Minibatch Loss=0.307039, training accuracy=0.90714, f1=0.83657\n",
      "Epoch 110, Minibatch Loss=0.259754, training accuracy=0.92429, f1=0.84290\n",
      "Epoch 120, Minibatch Loss=0.253366, training accuracy=0.92429, f1=0.84961\n",
      "Epoch 130, Minibatch Loss=0.248088, training accuracy=0.92429, f1=0.85528\n",
      "Epoch 140, Minibatch Loss=0.242666, training accuracy=0.92429, f1=0.86012\n",
      "Epoch 150, Minibatch Loss=0.237277, training accuracy=0.92429, f1=0.86431\n",
      "Epoch 160, Minibatch Loss=0.254010, training accuracy=0.92429, f1=0.86683\n",
      "Epoch 170, Minibatch Loss=0.234756, training accuracy=0.92429, f1=0.87012\n",
      "Epoch 180, Minibatch Loss=0.228710, training accuracy=0.92429, f1=0.87304\n",
      "Epoch 190, Minibatch Loss=0.223410, training accuracy=0.92429, f1=0.87566\n",
      "Epoch 200, Minibatch Loss=0.798277, training accuracy=0.78071, f1=0.87659\n",
      "Epoch 210, Minibatch Loss=0.261151, training accuracy=0.92214, f1=0.87630\n",
      "Epoch 220, Minibatch Loss=0.229904, training accuracy=0.92429, f1=0.87840\n",
      "Epoch 230, Minibatch Loss=0.221013, training accuracy=0.93429, f1=0.88052\n",
      "Epoch 240, Minibatch Loss=0.215942, training accuracy=0.94357, f1=0.88291\n",
      "INFO:tensorflow:Restoring parameters from /temp/model.ckpt\n",
      "Model restored.\n",
      "Testing Loss=0.877782, testing accuracy= 0.74595, f1=0.75000 \n"
     ]
    }
   ],
   "source": [
    "tf.reset_default_graph()\n",
    "rnn = RNN(config,cell_type='lstm')\n",
    "rnn.train(X_train,y_train,lengths_train,verbose=True)\n",
    "rnn.test(X_test,y_test,lengths_test)"
   ]
  },
  {
   "cell_type": "markdown",
   "metadata": {},
   "source": [
    "## Conclusions <a id='5'></a>\n",
    "\n",
    "In the case of spam classification of short sentences and a small corpus, both the logistic regression and naive bayes performed remarkably well, given how simple they were.    The more complex algorithm, the neural network could achieve an f1 score of .92 on the training set.  However, the f1 score on the test set was .74, which while good is not nearly as accurate as the test scores of the Naive Bayes Classifier.   "
   ]
  },
  {
   "cell_type": "code",
   "execution_count": null,
   "metadata": {
    "collapsed": true
   },
   "outputs": [],
   "source": []
  }
 ],
 "metadata": {
  "anaconda-cloud": {},
  "kernelspec": {
   "display_name": "Python [conda env:tensorflow]",
   "language": "python",
   "name": "conda-env-tensorflow-py"
  }
 },
 "nbformat": 4,
 "nbformat_minor": 2
}
