{
 "cells": [
  {
   "cell_type": "markdown",
   "metadata": {},
   "source": [
    "# Finding spam in Youtube comments.   \n",
    "\n",
    "Spam has been around since the beginning of the internet.  In fact, the use of spam over a network stretches back all the way to 1884 when wealthy Americans were sent unsolicited investment offers over the telegraph[[1](http://content.time.com/time/business/article/0,8599,1933796,00.html)].  In more modern times, the first appearence of modern email spam occured on ARPANET, a military precurser to the internet, when 'a man named Gary Turk sent an e-mail solicitation to 400 people, advertising his line of new computers'[[1](http://content.time.com/time/business/article/0,8599,1933796,00.html)].  \n",
    "\n",
    "In this notebook we will consider filtering the problem of finding spam in Youtube comments.   Spam in youtube comments is a slightly different task then spam in email.  Youtube comments tend to be short, often less than five words, and a spam email may simply contain the name the website domain.   However, as we will see, it is quite easy to construct a machine learning model to classify comments as spam or ham (not spam).   \n",
    "\n",
    "For a training and test set, we will use the spam database found on the  UCI machine learning repository.   There are several different types of algorithm we can use to classify spam, however in this notebook, I will compare three specific models\n",
    "\n",
    "* Logistic Regression\n",
    "* Naive Bayes Classifier\n",
    "* Recurrent Neural Networks\n",
    "\n",
    "While simple, the logistic regression and naive Bayes models perform quite well at classifying emails as spam or ham, and manage to achieve an f1 score of ~.9 on the test set.  The neural network performs well, though not as good as the Naive Bayes algorithm, with an f1 score of .75 on the test set.   \n",
    "\n",
    "## Table of Contents \n",
    "* [Data preprocessing](#1)\n",
    "    * [Cleaning the data](#1.1)\n",
    "    * [Splitting the data into test/training sets](#1.2)\n",
    "* [Turning sentences into vectors](#2)\n",
    "    * [Bag of words model](#2.1)\n",
    "    * [Term frequency/inverse document frequency](#2.2)\n",
    "* [Predicting spam vs ham](#3)\n",
    "    * [Model evaluation criteria](#3.1)\n",
    "    * [Logistic regression](#3.2)\n",
    "    * [Naive Bayes model](#3.3)\n",
    "* [Neural networks](#4)\n",
    "    * [Word encodings](#4.1)\n",
    "    * [Recurrent neural networks](#4.2)\n",
    "* [Conclusions](#5)\n",
    "    "
   ]
  },
  {
   "cell_type": "code",
   "execution_count": 1,
   "metadata": {
    "collapsed": true
   },
   "outputs": [],
   "source": [
    "%matplotlib inline\n",
    "import matplotlib.pyplot as plt\n",
    "import numpy as np\n",
    "import pandas as pd\n",
    "import tensorflow as tf\n",
    "import re\n",
    "import os"
   ]
  },
  {
   "cell_type": "markdown",
   "metadata": {},
   "source": [
    "# Data analysis, preprocessing <a id='1'></a>\n",
    "\n",
    "[UCI has a machine learning repository consisting of comments from five youtube videos that are classified as spam or not spam](http://archive.ics.uci.edu/ml/datasets/YouTube+Spam+Collection#).   These are stored as csv_files, which will be loaded into a list of dataframes.   The classification data is stored as the class field, where comments with a class of 1 are considered spam, and comments with a class value of 0 are ham.   "
   ]
  },
  {
   "cell_type": "code",
   "execution_count": 39,
   "metadata": {},
   "outputs": [
    {
     "data": {
      "text/html": [
       "<div>\n",
       "<style>\n",
       "    .dataframe thead tr:only-child th {\n",
       "        text-align: right;\n",
       "    }\n",
       "\n",
       "    .dataframe thead th {\n",
       "        text-align: left;\n",
       "    }\n",
       "\n",
       "    .dataframe tbody tr th {\n",
       "        vertical-align: top;\n",
       "    }\n",
       "</style>\n",
       "<table border=\"1\" class=\"dataframe\">\n",
       "  <thead>\n",
       "    <tr style=\"text-align: right;\">\n",
       "      <th></th>\n",
       "      <th>COMMENT_ID</th>\n",
       "      <th>AUTHOR</th>\n",
       "      <th>DATE</th>\n",
       "      <th>CONTENT</th>\n",
       "      <th>CLASS</th>\n",
       "    </tr>\n",
       "  </thead>\n",
       "  <tbody>\n",
       "    <tr>\n",
       "      <th>0</th>\n",
       "      <td>LZQPQhLyRh80UYxNuaDWhIGQYNQ96IuCg-AYWqNPjpU</td>\n",
       "      <td>Julius NM</td>\n",
       "      <td>2013-11-07T06:20:48</td>\n",
       "      <td>Huh, anyway check out this you[tube] channel: ...</td>\n",
       "      <td>1</td>\n",
       "    </tr>\n",
       "    <tr>\n",
       "      <th>1</th>\n",
       "      <td>LZQPQhLyRh_C2cTtd9MvFRJedxydaVW-2sNg5Diuo4A</td>\n",
       "      <td>adam riyati</td>\n",
       "      <td>2013-11-07T12:37:15</td>\n",
       "      <td>Hey guys check out my new channel and our firs...</td>\n",
       "      <td>1</td>\n",
       "    </tr>\n",
       "    <tr>\n",
       "      <th>2</th>\n",
       "      <td>LZQPQhLyRh9MSZYnf8djyk0gEF9BHDPYrrK-qCczIY8</td>\n",
       "      <td>Evgeny Murashkin</td>\n",
       "      <td>2013-11-08T17:34:21</td>\n",
       "      <td>just for test I have to say murdev.com</td>\n",
       "      <td>1</td>\n",
       "    </tr>\n",
       "  </tbody>\n",
       "</table>\n",
       "</div>"
      ],
      "text/plain": [
       "                                    COMMENT_ID            AUTHOR  \\\n",
       "0  LZQPQhLyRh80UYxNuaDWhIGQYNQ96IuCg-AYWqNPjpU         Julius NM   \n",
       "1  LZQPQhLyRh_C2cTtd9MvFRJedxydaVW-2sNg5Diuo4A       adam riyati   \n",
       "2  LZQPQhLyRh9MSZYnf8djyk0gEF9BHDPYrrK-qCczIY8  Evgeny Murashkin   \n",
       "\n",
       "                  DATE                                            CONTENT  \\\n",
       "0  2013-11-07T06:20:48  Huh, anyway check out this you[tube] channel: ...   \n",
       "1  2013-11-07T12:37:15  Hey guys check out my new channel and our firs...   \n",
       "2  2013-11-08T17:34:21             just for test I have to say murdev.com   \n",
       "\n",
       "   CLASS  \n",
       "0      1  \n",
       "1      1  \n",
       "2      1  "
      ]
     },
     "execution_count": 39,
     "metadata": {},
     "output_type": "execute_result"
    }
   ],
   "source": [
    "file_names = ['Youtube01-Psy.csv','Youtube02-KatyPerry.csv','Youtube03-LMFAO.csv',\n",
    "              'Youtube04-Eminem.csv','Youtube05-Shakira.csv']\n",
    "filepath = './data'\n",
    "dataframes = [pd.read_csv(os.path.join(filepath,file_name)) for file_name in file_names]\n",
    "dataframes[0].head(3)"
   ]
  },
  {
   "cell_type": "markdown",
   "metadata": {},
   "source": [
    "To get a better sense of the data, let us print out the content for several reviews."
   ]
  },
  {
   "cell_type": "code",
   "execution_count": 3,
   "metadata": {},
   "outputs": [
    {
     "name": "stdout",
     "output_type": "stream",
     "text": [
      "please like :D https://premium.easypromosapp.com/voteme/19924/616375350﻿\n",
      "Hello! Do you like gaming, art videos, scientific experiments, tutorials,  lyrics videos, and much, much more of that? If you do please check out our  channel and subscribe to it, we've just started, but soon we hope we will  be able to cover all of our expectations... You can also check out what  we've got so far!﻿\n",
      "I'm only checking the views﻿\n",
      "http://www.ebay.com/itm/171183229277?ssPageName=STRK:MESELX:IT&amp;_trksid=p3984.m1555.l2649 ﻿\n",
      "http://ubuntuone.com/40beUutVu2ZKxK4uTgPZ8K﻿\n",
      "We are an EDM apparel company dedicated to bringing you music inspired  designs. Our clothing is perfect for any rave or music festival. We have  NEON crop tops, tank tops, t-shirts, v-necks and accessories! follow us on  Facebook or on instagraml for free giveaways news and more!! visit our site  at OnCueApparel﻿\n"
     ]
    }
   ],
   "source": [
    "for content in dataframes[0].CONTENT[14:20]:\n",
    "    print(content)"
   ]
  },
  {
   "cell_type": "markdown",
   "metadata": {},
   "source": [
    "### Cleaning the data <a id='1.1'></a>\n",
    "We see that there are several features we don't need such as COMMENT_ID, AUTHOR, and DATE.   We also see that within content, there are a lot of web links.   To make it easier to identify weblinks, we will substitute in the word WEBLINK for every instance of a URL.   The character /ufeff is also present in the file, which is most likely due to improperly decoding utf-16 as utf-8.   We define a function to remove this.   "
   ]
  },
  {
   "cell_type": "code",
   "execution_count": 4,
   "metadata": {
    "collapsed": true
   },
   "outputs": [],
   "source": [
    "def format_sentence(s):\n",
    "    ret_sent = re.sub('http\\S+','WEBLINK',s)\n",
    "    ret_sent = re.sub(r'\\\\ufeff','',ret_sent)\n",
    "    return ret_sent"
   ]
  },
  {
   "cell_type": "markdown",
   "metadata": {},
   "source": [
    "### Splitting the data into test and training sets <a id='1.2'></a>\n",
    "We will want to be able to test our data, so we will split the data into a test and training set.  The training set will be used along with cross validation to select the best model.  The model will then be evaluated by testing it on the test dataset.   "
   ]
  },
  {
   "cell_type": "code",
   "execution_count": 5,
   "metadata": {
    "collapsed": true
   },
   "outputs": [],
   "source": [
    "from sklearn.model_selection import train_test_split\n",
    "data = pd.concat(dataframes).reset_index(drop=True)\n",
    "X_train,X_test,y_train,y_test = train_test_split(data.CONTENT,data.CLASS)"
   ]
  },
  {
   "cell_type": "markdown",
   "metadata": {},
   "source": [
    "## Turning the sentences into useable vectors <a id='2'></a>\n",
    "If we want to use a machine learning algorithm to predict the number of sentences, then we need to find a mapping that will associate every word, and every sentence with a vector that we then can feed into our machine learning algorithm.   The simplest way to do this is to use the Bag of words model, or create vectors by finding the term-frequency inverse-document-frequency of each sentence.   "
   ]
  },
  {
   "cell_type": "markdown",
   "metadata": {},
   "source": [
    "### Bag of words Model <a id='2.1'></a>\n",
    "We will first use a bag of words model to turn each sentence into a unique vector.   The bag of words model is simply turning each word into a basis vector in a Hilbert space.  To form a vector for the words, we simply add the vectors for each word for each sentence.  Thus each sentence will be transformed into a vector that we can add to a machine learning model.  In this model, if we had the sentences \n",
    "* 'I ran to the store',\n",
    "* 'I ran across town',\n",
    "* 'I ran to work and to home',\n",
    "\n",
    "then we could form a basis set of the vectors ('I','ran','to','the','store','across','town','work','and','home').   The sentences would then be encoded as the vectors \n",
    "* (1,1,1,1,1,0,0,0,0,0)\n",
    "* (1,1,0,0,0,1,1,0,0,0)\n",
    "* (1,1,2,0,0,0,0,1,1,1)\n",
    "\n",
    "However, this model can still be improved.  For example, the words 'the', 'a', and 'of' occur so often that they are unlikely to help us classify comment.   These words that are common enough that they do not aid in distinguishing sentences are called stopwords.   Another limitation is that our implementation above would classify 'bag' and 'bags' as two different words.   For this bag-of-words model, we don't care about the verb tense or the s at the end of a word.  What we want to do is associate every word with a stem, that represents its most basic feature. ie. 'run' and 'running', and 'runs' might all be replaced by the same word 'ru'.  To achieve this, we will use a porter stemmer, which is found in the nltk.\n",
    "\n",
    "Another limitation is that words that only occur once during the document do not add any predictive power.  Because of this, we will ignore any words that occur less than five times.  \n",
    "\n",
    "### TFIDF <a id='2.2'></a>\n",
    "The vectors are not normalized now, and in fact can be improved using one more feature which mapping each count in a vector to its term frequency/inverse document frequency.   A term which appears five times in one comment is likely important.  This is referred to as the document frequency.  However, if that same term appears five times in every comment, then it is likely a commonly used word, 'the' for example.  This is the document frequency  The term frequency/inverse document frequency is simply the ratio of the term frequency to the inverse document frequency.   The precise definition is to let the number of times a term $t$ appears in document $d$ be $tf(t,d)$.   Let $n_d$ be the total number of documents in the corpus, and let $df(t)$ be the number of documents containing term $t$.  Then the term-frequency calculated in the sklearn TfidfVectorizer is $tfidf(t,d)$ is $$tfidf(t,d) = tf(t,d)\\cdot\\text{log}\\left(\\frac{1+n_d}{1+df(t)}+1\\right)$$  (Note, this differs slightly from the tfidf given in textbooks).  The resulting vectors are then normalized.    \n"
   ]
  },
  {
   "cell_type": "code",
   "execution_count": 6,
   "metadata": {},
   "outputs": [
    {
     "name": "stdout",
     "output_type": "stream",
     "text": [
      "(1467, 394)\n"
     ]
    }
   ],
   "source": [
    "from sklearn.feature_extraction.text import CountVectorizer\n",
    "from sklearn.feature_extraction.text import TfidfVectorizer\n",
    "import nltk\n",
    "from nltk.stem.porter import PorterStemmer\n",
    "def port_tokenizer(text):\n",
    "    words = re.split(r'\\s+',text.lower())\n",
    "    ps = PorterStemmer()\n",
    "    return [ps.stem(word) for word in words if not word in nltk.corpus.stopwords.words('english') and word]\n",
    "count_vect = CountVectorizer(preprocessor=format_sentence,tokenizer=port_tokenizer,min_df=5)\n",
    "tfidf_vect = TfidfVectorizer(preprocessor=format_sentence,tokenizer=port_tokenizer,min_df=5)\n",
    "X_train_bow = count_vect.fit_transform(X_train)\n",
    "X_train_tfidf = tfidf_vect.fit_transform(X_train)\n",
    "print(X_train_bow.shape)"
   ]
  },
  {
   "cell_type": "markdown",
   "metadata": {},
   "source": [
    "## Predicting spam vs ham <a id='3'></a>\n",
    "\n",
    "### Model evaluation criteria <a id='3.1'></a>\n",
    "Now that we have transformed our sentences into feature vectors, we can try several machine learning algorithms to predict whether or not a given word will be spam.  We also will need a way to evaluate our results.  Since in the real world, spam occurs infrequently compared to ham, a classifier which simply predicted everything as ham would have a high accuracy.  Because of this, accuracy is not the prefered way to measure the performance of a spam classifier.  Instead we will use a combination of precision and recall \n",
    "- precision: The number of true positives divided by the number of elements predicted to be true (true and false positives)\n",
    "- recall: The number of true positives divided by the number of all positives (true positives and false negatives)\n",
    "Since we want to maximize both of these at the same time, we will use the f1-score, which is defined as the product of precision and recall, divided by their mean.  $$f_1 = \\frac{\\text{precision}\\cdot\\text{recall}}{(\\text{precision}+\\text{recall})/2}$$\n"
   ]
  },
  {
   "cell_type": "code",
   "execution_count": 7,
   "metadata": {
    "collapsed": true
   },
   "outputs": [],
   "source": [
    "from sklearn.metrics import f1_score"
   ]
  },
  {
   "cell_type": "markdown",
   "metadata": {},
   "source": [
    "### Logistic Regression <a id='3.2'></a>\n",
    "The simplest model we could use to predict spam would be a logistic regression.   The logistic regression model will choose its parameters via a grid search which will alter the regularization term C.   We will also try using both the bag of words, and the tfidf vectors. "
   ]
  },
  {
   "cell_type": "code",
   "execution_count": 8,
   "metadata": {},
   "outputs": [
    {
     "name": "stderr",
     "output_type": "stream",
     "text": [
      "C:\\Users\\Michael\\Anaconda3\\envs\\tensorflow\\lib\\site-packages\\sklearn\\cross_validation.py:44: DeprecationWarning: This module was deprecated in version 0.18 in favor of the model_selection module into which all the refactored classes and functions are moved. Also note that the interface of the new CV iterators are different from that of this module. This module will be removed in 0.20.\n",
      "  \"This module will be removed in 0.20.\", DeprecationWarning)\n",
      "C:\\Users\\Michael\\Anaconda3\\envs\\tensorflow\\lib\\site-packages\\sklearn\\grid_search.py:43: DeprecationWarning: This module was deprecated in version 0.18 in favor of the model_selection module into which all the refactored classes and functions are moved. This module will be removed in 0.20.\n",
      "  DeprecationWarning)\n"
     ]
    },
    {
     "name": "stdout",
     "output_type": "stream",
     "text": [
      "{'C': 1.681792830507429}\n",
      "0.9327579180012385\n"
     ]
    },
    {
     "data": {
      "image/png": "[encoded data removed]",
      "text/plain": [
       "<matplotlib.figure.Figure at 0x1e6dafbfc18>"
      ]
     },
     "metadata": {},
     "output_type": "display_data"
    },
    {
     "name": "stdout",
     "output_type": "stream",
     "text": [
      "Test Set f1-score: 0.923\n"
     ]
    }
   ],
   "source": [
    "from sklearn.linear_model import LogisticRegression\n",
    "from sklearn.grid_search import GridSearchCV\n",
    "course_params = {'C':[2**x for x in range(-6,15,2)]}\n",
    "gs = GridSearchCV(LogisticRegression(class_weight='balanced'),course_params,n_jobs=-1,cv=5,scoring='f1')\n",
    "gs.fit(X_train_bow,y_train)\n",
    "fine_params = {'C':[gs.best_params_['C']*(2**x) for x in np.arange(-1.75,2,.25)]}\n",
    "gs = GridSearchCV(LogisticRegression(class_weight='balanced'),fine_params,n_jobs=-1,cv=5,scoring='f1')\n",
    "gs.fit(X_train_bow,y_train)\n",
    "print(gs.best_params_)\n",
    "print(gs.best_score_)\n",
    "sample_sizes = range(100,1000,10)\n",
    "train_bow,test_bow = list(),list()\n",
    "lr_bow = LogisticRegression(class_weight='balanced',C=gs.best_params_['C'])\n",
    "for sample_size in sample_sizes:\n",
    "    xs,ys= X_train[:sample_size],y_train[:sample_size]\n",
    "    count_vect = CountVectorizer(preprocessor=format_sentence,tokenizer=port_tokenizer)\n",
    "    xs_bow = count_vect.fit_transform(xs)\n",
    "    xs_train,xs_test,ys_train,ys_test = train_test_split(xs_bow,ys)\n",
    "    lr_bow.fit(xs_train,ys_train)\n",
    "    train_bow.append(f1_score(lr_bow.predict(xs_train),ys_train))\n",
    "    test_bow.append(f1_score(lr_bow.predict(xs_test),ys_test))\n",
    "plt.plot(sample_sizes,train_bow,c='r',label='training')\n",
    "plt.plot(sample_sizes,test_bow,c='b',label='test')\n",
    "plt.xlabel('no of samples')\n",
    "plt.ylabel('f1 score')\n",
    "plt.title('Bag of words, logistic regression learning curve')\n",
    "plt.show()\n",
    "Xs_test = count_vect.transform(X_test)\n",
    "print(\"Test Set f1-score: {:.3}\".format(f1_score(lr_bow.predict(Xs_test),y_test)))"
   ]
  },
  {
   "cell_type": "code",
   "execution_count": 9,
   "metadata": {
    "scrolled": false
   },
   "outputs": [
    {
     "name": "stdout",
     "output_type": "stream",
     "text": [
      "{'C': 4.7568284600108841}\n",
      "0.9218904914610436\n"
     ]
    },
    {
     "data": {
      "image/png": "[encoded data removed]",
      "text/plain": [
       "<matplotlib.figure.Figure at 0x1e6db0e9908>"
      ]
     },
     "metadata": {},
     "output_type": "display_data"
    },
    {
     "name": "stdout",
     "output_type": "stream",
     "text": [
      "Test Set f1-score: 0.944\n"
     ]
    }
   ],
   "source": [
    "course_params = {'C':[2**x for x in range(-6,15,2)]}\n",
    "gs = GridSearchCV(LogisticRegression(class_weight='balanced'),course_params,n_jobs=-1,cv=5,scoring='f1')\n",
    "gs.fit(X_train_tfidf,y_train)\n",
    "fine_params = {'C':[gs.best_params_['C']*(2**x) for x in np.arange(-1.75,2,.25)]}\n",
    "gs = GridSearchCV(LogisticRegression(class_weight='balanced'),fine_params,n_jobs=-1,cv=5,scoring='f1')\n",
    "gs.fit(X_train_tfidf,y_train)\n",
    "print(gs.best_params_)\n",
    "print(gs.best_score_)\n",
    "sample_sizes = range(100,1000,10)\n",
    "train_tfidf,test_tfidf = list(),list()\n",
    "lr_tfidf = LogisticRegression(class_weight='balanced',C=gs.best_params_['C'])\n",
    "for sample_size in sample_sizes:\n",
    "    xs,ys= X_train[:sample_size],y_train[:sample_size]\n",
    "    tfidf_vect = TfidfVectorizer(preprocessor=format_sentence,tokenizer=port_tokenizer)\n",
    "    xs_tfidf = tfidf_vect.fit_transform(xs)\n",
    "    xs_train,xs_test,ys_train,ys_test = train_test_split(xs_tfidf,ys)\n",
    "    lr_tfidf.fit(xs_train,ys_train)\n",
    "    train_tfidf.append(f1_score(lr_tfidf.predict(xs_train),ys_train))\n",
    "    test_tfidf.append(f1_score(lr_tfidf.predict(xs_test),ys_test))\n",
    "plt.plot(sample_sizes,train_bow,c='r',label='training')\n",
    "plt.plot(sample_sizes,test_bow,c='b',label='test')\n",
    "plt.xlabel('no of samples')\n",
    "plt.ylabel('f1 score')\n",
    "plt.title('TFIDF vectors, logistic regression learning curve')\n",
    "plt.show()\n",
    "Xs_test = tfidf_vect.transform(X_test)\n",
    "print(\"Test Set f1-score: {:.3}\".format(f1_score(lr_tfidf.predict(Xs_test),y_test)))"
   ]
  },
  {
   "cell_type": "markdown",
   "metadata": {},
   "source": [
    "We can see that the simple bow model gets a slightly higher f1 score then the tfidf.  We can also note that because of the large dimension of the feature space, that the model achieves near perfect accuracy on the training set.   "
   ]
  },
  {
   "cell_type": "markdown",
   "metadata": {},
   "source": [
    "### Bayesian spam filtering <a id='3.3'></a>\n",
    "\n",
    "Bayesian spam filtering is one of the oldest types of spam filtering out there.   The original papers covering this method were first published in 1998 [[2](http://www.paulgraham.com/better.html)].   However, further improvements came in 2003, when Paul Graham published an article in which he devised a better way to classify spam emails [[2](http://www.paulgraham.com/better.html)].   \n",
    "\n",
    "For this section, we will rely on the most simple version of a Bayesian spam filter we can create.  We will start by initially representing sentences as a set of unique words.  What we want to know is the probability that a message is spam given its set of words $P(S\\mid\\{w_1,w_2,...,w_n\\})$, or the probability that a message is ham given its words $P(H\\mid\\{w_1,w_2,...,w_n\\})$.   Using Bayes rule, we can rewrite these probabilities as $$P(s\\mid\\{w_1,w_2,...\\}) \\propto P(\\{w_1,w_2,...\\}\\mid s)P(s) $$ where $s$ represents either spam or ham.   \n",
    "\n",
    "While this expression is not terribly enlightening, if we will make the assumption that the probability of each word appearing is independent, ie. $$P(\\{w_1,w_2,...,w_n\\}) = \\prod_iP(w_i)$$\n",
    "then we can rewrite the probability as $$P(s\\mid\\{w_1,w_2,...w_n\\})\\propto P(\\{w_1,w_2,...,w_n\\}\\mid s)P(s) = \\left(\\prod_iP(w_i\\mid s)\\right) P(s)$$ where $s$ represent either Spam or Ham.    While this assumption is no doubt not false since there are correlations between the frequencies of words, it allows us to write an easily calculable expression for the probability of a word being spam.   In addition, as we will see, the assumption turns out to yield decent results.   \n",
    "\n",
    "However, when we use this method, we still have the problem of words with zero frequency showing up.   To deal with this we will use laplace (add 1) smoothing where we define $$p(w_i\\mid s) = \\frac{\\text{count}_s(w_i)+1}{\\sum_j \\text{count}(w_j)+1} $$ where count$_s(w_i)$ is the number of messages in $s$ that contain the word $w_i$.    To avoid floating-point underflow, we typically calculate $$\\text{log}\\,P(s\\mid\\{w_1,...,w_n\\}) = \\text{log}P(s)+\\sum_{i=1}^N\\text{log}P(w_i,s) $$ rather than $P(s\\mid\\{w_1,...w_n\\})$\n",
    "\n",
    "To avoid the problem of rare words, we will also include a minimum document frequency necessary for us to consider a word.  We will then make predictions based on whether or not the log probability of the email being ham is greater than the log probability of the email being spam, however, we could also adjust the cutoff quite easily \n",
    "\n"
   ]
  },
  {
   "cell_type": "code",
   "execution_count": 10,
   "metadata": {},
   "outputs": [
    {
     "name": "stdout",
     "output_type": "stream",
     "text": [
      "the f1 score on the training set is: 0.86 +/- 0.03\n"
     ]
    },
    {
     "data": {
      "image/png": "[encoded data removed]",
      "text/plain": [
       "<matplotlib.figure.Figure at 0x1e6dafd3e80>"
      ]
     },
     "metadata": {},
     "output_type": "display_data"
    },
    {
     "name": "stdout",
     "output_type": "stream",
     "text": [
      "The f1 score on the test set is 0.84\n"
     ]
    }
   ],
   "source": [
    "from sklearn.base import BaseEstimator\n",
    "from sklearn.model_selection import cross_val_score\n",
    "class BayesianSpamClassifier(BaseEstimator):\n",
    "    \"\"\"Provides a bayesian estimator of whether or \"\"\"\n",
    "    def __init__(self,min_df=5):\n",
    "        self.min_df = min_df\n",
    "    def fit(self,X,y):\n",
    "        spam = X[y.values.astype(bool)]>0\n",
    "        ham = X[~y.values.astype(bool)]>0\n",
    "        self.ham= ham\n",
    "        self.spam=spam\n",
    "        self.valid_indices = (X.sum(axis=0)>=self.min_df).astype(bool)\n",
    "        prob_word_given_spam = (spam.sum(axis=0)+1)/((spam.sum(axis=0)+1).sum())\n",
    "        self.prob_word_given_spam = prob_word_given_spam[self.valid_indices]\n",
    "        prob_word_given_ham = (ham.sum(axis=0)+1)/((ham.sum(axis=0)+1).sum())\n",
    "        self.prob_word_given_ham = prob_word_given_ham[self.valid_indices]\n",
    "        self.prob_spam = y.sum()/y.shape[0]\n",
    "        self.prob_ham = 1-self.prob_spam\n",
    "    def predict(self,X):\n",
    "        prob_ham = self.prob_ham\n",
    "        prob_spam = self.prob_spam\n",
    "        prob_word_given_spam = self.prob_word_given_spam\n",
    "        prob_word_given_ham = self.prob_word_given_ham\n",
    "        X = X[:,self.valid_indices]>0\n",
    "        log_prob_ratio_spam_ham = X.dot(np.log((prob_word_given_spam.T)/(prob_word_given_ham.T)))+np.log(prob_spam/prob_ham)\n",
    "        return log_prob_ratio_spam_ham>0\n",
    "cv = cross_val_score(BayesianSpamClassifier(2),X_train_bow.toarray(),y_train,\n",
    "                     cv=10,scoring='f1')\n",
    "print('the f1 score on the training set is: {:.2f} +/- {:.2f}'.format(cv.mean(),cv.std()))\n",
    "\n",
    "train_bow=list()\n",
    "test_bow=list()\n",
    "for sample_size in sample_sizes:\n",
    "    xs,ys= X_train[:sample_size],y_train[:sample_size]\n",
    "    bc_bow =BayesianSpamClassifier(2)\n",
    "    count_vect = CountVectorizer(preprocessor=format_sentence,tokenizer=port_tokenizer)\n",
    "    xs_bow = count_vect.fit_transform(xs)\n",
    "    xs_train,xs_test,ys_train,ys_test = train_test_split(xs_bow,ys)\n",
    "    bc_bow.fit(xs_train.toarray(),ys_train)\n",
    "    train_bow.append(f1_score(bc_bow.predict(xs_train.toarray()),ys_train))\n",
    "    test_bow.append(f1_score(bc_bow.predict(xs_test.toarray()),ys_test))\n",
    "plt.plot(sample_sizes,train_bow,c='r',label='training')\n",
    "plt.plot(sample_sizes,test_bow,c='b',label='test')\n",
    "plt.xlabel('no of samples')\n",
    "plt.ylabel('f1 score')\n",
    "plt.title('Naive bayes learning curve')\n",
    "plt.show()\n",
    "xs_test = count_vect.transform(X_test)\n",
    "print(\"The f1 score on the test set is {:.2f}\".format(f1_score(bc_bow.predict(xs_test),y_test)))"
   ]
  },
  {
   "cell_type": "markdown",
   "metadata": {},
   "source": [
    "We can see that with this incredibly simple Bayesian classifier, we can achieve a high f1 score on the training set.   "
   ]
  },
  {
   "cell_type": "markdown",
   "metadata": {},
   "source": [
    "## Neural networks for spam classification <a id='4'></a> \n",
    "\n",
    "We can also take a deep learning approach to spam classification.  There are several approaches to classifying spam using neural networks; however, the model I will use for text classification will be a simple recurrent neural network (RNN) modeled in tensorflow.  An RNN is a type of neural network that allows us to model sequences of arbitrary lengths using one set of parameters.   The basic setup for one is show below: ![A simple RNN](images/rnn.png)\n",
    "**source: cs224 at stanford lecture notes, [[3](http://cs224d.stanford.edu)]**\n",
    "\n",
    "The inputs $x_i$ are individual vectors representing each word.   Each node in the RNN takes two inputs, $x_i$ which represents the input of the $i$th word vector, and $h_{i-1}$ which represents the output from the $i-1$th node.   The nodes in tern generate two outputs, $y_i$ and $h_i$, where $h_i$ is than fed in as an input to the next node.   The nodes furthermore all share the same matrices, $W_{hh}$, $W_{xh}$, and $W_S$, which are used to generate the outputs.  \n",
    "\n",
    "* $y_i = \\text{softmax}(W_Sh_i)$\n",
    "* $h_i = \\sigma(W_{hh}h_{i-1}+W_{hx}x_i) $\n",
    "\n",
    "where $\\sigma$ is the sigmoid function.   The benefit from a neural network like this is that the output of the $i$th node depends not just on $x_i$ but also on $x_{i-1}$, $x_{i-2}$ and so on.  For sentence processing, the steps are as follows:\n",
    "\n",
    "1. We start by encoding all of the words as vectors in a $D_w$ space, transforming an $n$ word sentence into a $n\\times D_w$ tensor.  \n",
    "2. We transform a sentence into a length $n_s$ vector by  feeding the sentence words into a RNN, where each output is a  $n_{s}$ vector.  We take the last output of the RNN (which depends on all words in the RNN to be the sentence vector.\n",
    "3. We add in one additional layer to the neural network to map us from $n_s$ to $n_c$ where $n_c$ is the number of possible predicted labels (in this case 2).   \n",
    "4. We train this neural network using gradient descent.   \n",
    "\n",
    "\n",
    "We will construct this operation by using the popular library, tensorflow, to build our neural network, and gensim, to encode the word vectors.  Tensorflow is an open source package written in optimized c++ and python, which can be used to build fast neural networks.   "
   ]
  },
  {
   "cell_type": "markdown",
   "metadata": {},
   "source": [
    "## Word encodings <a id='4.1'></a>\n",
    "\n",
    "To encode the words as vectors, we will use the gensim library and its word2vec encoder.   The word2vec encoder I will use in this case determines the embeddings of a word by considering what words often occur near that word.   For example, if president and prime minister occurred often together, the resulting vectors in the embedding would also appear close together.   However, the word 'president' and the word 'prime-rib' would appear distant.   The word2vec is a useful encoder since it also can preserve analogies.  For example, the vector that points from man to king, is nearly the same as the vector that points from woman to queen, and the vector that points from cow to beef will be nearly the same as the vector that points from sheep to mutton.   \n",
    "\n",
    "To simplify the words more, we will first use a porter tokenizer to stem and tokenize all words before creating word embeddings.  This will reduce the noise associated with our small sample size.  "
   ]
  },
  {
   "cell_type": "code",
   "execution_count": 31,
   "metadata": {},
   "outputs": [],
   "source": [
    "from gensim.models import Word2Vec\n",
    "format_sentence, port_tokenizer\n",
    "def process_data(X,y,embedding_dim=10,sentence_length=10):\n",
    "    \"\"\"Loads the text data and processes it into a padded array, and returns\n",
    "    the array along with sentence lengths\n",
    "    \n",
    "    Parameters:\n",
    "    --------------\n",
    "    X: iterable array, shape = [n_samples,]\n",
    "        entries consist of unprocessed sentences (i.e. text)\n",
    "    y: iterable array, shape = [n_samples], \n",
    "        entries consist of 0 or 1\n",
    "    embedding_dim: int, default 10: the size of word vectors in the model\n",
    "    sentence_length: int, default 10: the maximum sentence length to consider,\n",
    "                     longer sentences will be shortened\n",
    "    \n",
    "    Returns:\n",
    "    tuple consisting of X,y,length\n",
    "    X: array, shape = [n_samples,sentence_length,embedding_dim] \n",
    "    y: array, shape = [n_samples,2]\n",
    "    length:, array, shape = [n_samples]\n",
    "    \"\"\"\n",
    "    if(type(X)!=type(pd.Series())):\n",
    "        X = pd.Series(X)\n",
    "    if(type(y)!=type(pd.Series())):\n",
    "        y =pd.Series(y)\n",
    "    X = X.apply(format_sentence)\n",
    "    X = X.apply(port_tokenizer)\n",
    "    wv=Word2Vec(X,size=embedding_dim).wv\n",
    "    X = X.apply(lambda ls:[list(wv[word]) for word in ls if\n",
    "                                              word in wv.vocab])\n",
    "    lengths = X.apply(lambda x:len(x) if len(x)<sentence_length else sentence_length)\n",
    "    pad = [0. for i in range(embedding_dim)]\n",
    "    X = X.apply(lambda ls:[ls[i] if i<len(ls) else pad for i in range(sentence_length)])\n",
    "    X = X[lengths>0]\n",
    "    y = y[lengths>0]\n",
    "    lengths = lengths[lengths>0]\n",
    "    #One hot encode y as [ham, spam]\n",
    "    y = y.apply(lambda x:[0,1] if x else [1,0])\n",
    "    return list(X),list(y),list(lengths)\n"
   ]
  },
  {
   "cell_type": "markdown",
   "metadata": {},
   "source": [
    "### Recurrent Neural Networks: <a id='4.2'></a>\n",
    "\n",
    "The diagram for the network is shown below. ![nn](images/RNN_SPAM.jpg)\n",
    "\n",
    "In tensorflow’s implementation of a simple RNN Cell, the outputs $y_i$ and $h_i$ are equal to each other, and are given by $$y_i=h_i =  \\text{activation}(V x_i + U  h_{i-1} + b)$$ where $V$ and $U$ are matrices, and $b$ is the bias term.  The activations of the output neurons $p(s)$ are then given by $$ p(s) = \\text{softmax}(W\\cdot h_l+b) $$ where $h_l$ is the last output from the rnn, and $W$ is a tensor.   The predictions are made based on which class has the higher activation.  \n",
    "\n",
    "I will construct this and then run it for some simple settings."
   ]
  },
  {
   "cell_type": "code",
   "execution_count": 37,
   "metadata": {
    "scrolled": true
   },
   "outputs": [
    {
     "name": "stdout",
     "output_type": "stream",
     "text": [
      "Epoch 0, Minibatch Loss=0.697820, training accuracy=0.55857, f1=0.66916\n",
      "Epoch 100, Minibatch Loss=0.280144, training accuracy=0.90643, f1=0.91261\n",
      "Epoch 200, Minibatch Loss=0.249963, training accuracy=0.91143, f1=0.91744\n",
      "Epoch 300, Minibatch Loss=0.169433, training accuracy=0.95500, f1=0.95803\n",
      "Epoch 400, Minibatch Loss=0.132424, training accuracy=0.97071, f1=0.97276\n",
      "Epoch 500, Minibatch Loss=0.228390, training accuracy=0.92786, f1=0.93333\n",
      "Epoch 600, Minibatch Loss=0.249608, training accuracy=0.90786, f1=0.91429\n",
      "Epoch 700, Minibatch Loss=0.172798, training accuracy=0.95000, f1=0.95340\n",
      "Epoch 800, Minibatch Loss=0.209210, training accuracy=0.93500, f1=0.93970\n",
      "Epoch 900, Minibatch Loss=0.229496, training accuracy=0.92143, f1=0.92706\n",
      "INFO:tensorflow:Restoring parameters from /temp/model.ckpt\n",
      "Model restored.\n",
      "Testing Loss=0.530582, testing accuracy= 0.82162, f1=0.82990 \n"
     ]
    }
   ],
   "source": [
    "class Config():\n",
    "    \"\"\" A class to hold the settings for neural network.\n",
    "    \"\"\"\n",
    "    learning_rate=.005\n",
    "    batch_size=100\n",
    "    max_epochs=1000\n",
    "\n",
    "    #length of word vectors\n",
    "    n_input=20\n",
    "    #max no of words per sentence\n",
    "    n_steps=10\n",
    "    n_classes=2\n",
    "    #size of hidden RNN layer(i.e. length of sentence features)\n",
    "    n_hidden=20\n",
    "    #regularization parameter\n",
    "    l2=.01\n",
    "\n",
    "class RNN(BaseEstimator):\n",
    "    \"\"\" A class for a simple variable length RNN to classify sentences.  The sentences\n",
    "    must be preprocessed into arrays of word vectors prior to using the RNN.\n",
    "\n",
    "    Parameters:\n",
    "    -------------\n",
    "    x_train: array, shape = [n_samples,n_steps,n_input]\n",
    "        training data, n_steps refers to the number of words per sentence,\n",
    "        n_input refers to the number of features per word.   Sentences smaller\n",
    "        then n_steps must be padded with vectors to ensure each sample contains\n",
    "        an array of the same size.\n",
    "\n",
    "    x_test: array, shape = [n_samples,n_steps,n_input]\n",
    "        test data, same conditions as apply to x_train\n",
    "\n",
    "    y_train: array shape = [n_samples,n_classes]\n",
    "        test data.  The data must be in the form of one hot vectors for each\n",
    "        predicted class\n",
    "\n",
    "    y_test: array shape = [n_samples,n_classes]\n",
    "        test data, same conditions as apply to y_train\n",
    "\n",
    "    length_train: int array or list, shape = [n_samples]\n",
    "        The length of each training sentence before padding.\n",
    "\n",
    "    length_test: int array or list, shape = [n_samples]\n",
    "        The lengths of each test sentence before padding\n",
    "\n",
    "    self.config: object which holds configuration parameters\n",
    "        config.learning rate: float, default: .001\n",
    "            The learning rate used in minibatch stochastic gradient descent\n",
    "        config.batch_size: int, default: 100\n",
    "            The size of minibatches fed into the NN for training.\n",
    "        config.max_epochs: int, default: 50\n",
    "            number of times to iterate over the training data for stochastic gradient descent\n",
    "        config.n_input: int, default: 10\n",
    "            length of embedding vectors for words\n",
    "        config.n_steps: int, default: 10\n",
    "            maximum number of words per sentence\n",
    "        config.n_classes: int default: 2\n",
    "            number of classes to predict\n",
    "        config.n_hidden: int, default=10,\n",
    "            size of vectors in RNN, represents the number of features per sentence\n",
    "    \"\"\"\n",
    "    def __init__(self,config,cell_type='rnn'):\n",
    "        self.config=config\n",
    "        self.cell_type=cell_type\n",
    "\n",
    "    def add_placeholders(self):\n",
    "        \"\"\"Initializes the placeholders to be used in the calculation\"\"\"\n",
    "        n_steps = self.config.n_steps\n",
    "        n_input = self.config.n_input\n",
    "        n_classes = self.config.n_classes\n",
    "        self.x_input = tf.placeholder(tf.float32,shape=[None,n_steps,n_input])\n",
    "        self.y_input  = tf.placeholder(tf.float32,shape=[None,n_classes])\n",
    "        self.length_input = tf.placeholder(tf.int32,shape=[None])\n",
    "        self.dropout = tf.placeholder(tf.float32)\n",
    "\n",
    "    def get_batch(self,i,X,y,lengths):\n",
    "        \"\"\" returns the ith mini-batch of the training data\n",
    "        Parameters:\n",
    "        -------------\n",
    "        i: int, which batch of training data to return\n",
    "        X: arraylike, shape = [n_samples,n_steps,n_input]\n",
    "            The training data\n",
    "        y: arraylike, int, shape = [n_samples,n_classes]\n",
    "            the class labels\n",
    "        lengths: arraylike, int, shape = [n_samples]\n",
    "            the lengths of each encoded sentence before \n",
    "            padding is added\n",
    "\n",
    "        Returns:\n",
    "        --------------\n",
    "        tuple consisting of batches for X,y, and length\n",
    "        \"\"\"\n",
    "        batch_size = self.config.batch_size\n",
    "        return X[i*batch_size:(i+1)*batch_size],\\\n",
    "                 y[i*batch_size:(i+1)*batch_size],\\\n",
    "                  lengths[i*batch_size:(i+1)*batch_size]\n",
    "\n",
    "    def initialize_variables(self):\n",
    "        \"\"\" Initializes the variables to be used in the tensorflow graph.\n",
    "        \"\"\"\n",
    "        n_hidden = self.config.n_hidden\n",
    "        n_classes = self.config.n_classes\n",
    "        with tf.variable_scope('RNN'):\n",
    "            weights = tf.get_variable('W',shape=[n_hidden,n_classes])\n",
    "            biases = tf.get_variable('b',shape=[n_classes])\n",
    "\n",
    "    def predict(self,X,lengths,reuse_var=False):\n",
    "        \"\"\"returns the logits predicted for each sentence\n",
    "\n",
    "        Parameters:\n",
    "        ---------------\n",
    "        X, arraylike, shape=[n_samples,n_steps,n_features]\n",
    "            preprocessed sentence arrays\n",
    "        lengths, arraylike, shape=[n_samples] list of words\n",
    "            per sentence before padding is added\n",
    "\n",
    "        Returns:\n",
    "        --------------\n",
    "        logits, arraylike, shape = [n_samples,n_classes]\n",
    "            predicted logits for each class\n",
    "        \"\"\"\n",
    "        n_steps = self.config.n_steps\n",
    "        n_hidden = self.config.n_hidden\n",
    "        with tf.variable_scope('RNN',reuse=reuse_var):\n",
    "            if self.cell_type=='rnn':\n",
    "                rnn_cell = tf.contrib.rnn.BasicRNNCell(n_hidden,reuse=reuse_var)\n",
    "            elif self.cell_type=='lstm':\n",
    "                rnn_cell = tf.contrib.rnn.BasicLSTMCell(n_hidden,reuse=reuse_var,forget_bias=.6)\n",
    "            outputs,states = tf.nn.dynamic_rnn(rnn_cell,\n",
    "                                sequence_length=lengths,inputs=X,\n",
    "                                time_major=False,dtype=tf.float32)\n",
    "\n",
    "        with tf.variable_scope('RNN',reuse=True):\n",
    "            W = tf.get_variable('W')\n",
    "            b = tf.get_variable('b')\n",
    "        output_list = tf.unstack(outputs,n_steps,1)\n",
    "        batch_size = tf.shape(outputs)[0]\n",
    "        last_rnn_output = tf.gather_nd(outputs,tf.stack([tf.range(\n",
    "            batch_size),lengths-1],axis=1))\n",
    "        return tf.matmul(last_rnn_output,W)+b\n",
    "    \n",
    "    def get_cost(self,pred,y):\n",
    "        cost=tf.reduce_mean(tf.nn.softmax_cross_entropy_with_logits(\n",
    "                logits=pred,labels=y))\n",
    "        return cost\n",
    "    \n",
    "    def optimize(self,pred,y):\n",
    "        \"\"\"Adds the optimization layer to the graph.\n",
    "\n",
    "        Parameters:\n",
    "        ---------------\n",
    "        pred: arraylike, shape = [n_samples,n_classes]\n",
    "            logits for predicted class labels\n",
    "        y: arraylike, shape = [n_samples,n_classes]\n",
    "            one hot vector corresponding to actual values.\n",
    "        returns:\n",
    "        ------------\n",
    "        tuple consisting of cost and optimizer,\n",
    "        cost: float, total cost associated with predictions and actual values,\n",
    "            uses cross entropy to compute the cost.\n",
    "        optimizer:\n",
    "            Adam optimizer to reduce the cost.\n",
    "        \"\"\"\n",
    "        cost = tf.reduce_mean(tf.nn.softmax_cross_entropy_with_logits(\n",
    "            logits=pred,labels=y))\n",
    "        with tf.variable_scope('RNN',reuse=True):\n",
    "            cost += self.config.l2*tf.nn.l2_loss(tf.get_variable('W'))\n",
    "        optimizer = tf.train.AdamOptimizer(learning_rate=self.config.\\\n",
    "                                           learning_rate).minimize(cost)\n",
    "        return cost,optimizer\n",
    "\n",
    "\n",
    "    def train(self,X,y,lengths,verbose=False):\n",
    "        \"\"\"Trains the neural network given a batch of training data (X,y,length)\n",
    "        Parameters:\n",
    "        --------------\n",
    "        X: array, shape = [n_samples,n_steps,n_input]\n",
    "            training data, n_steps refers to the number of words per sentence,\n",
    "            n_input refers to the number of features per word.   Sentences smaller\n",
    "            then n_steps must be padded with vectors to ensure each sample contains\n",
    "            an array of the same size.\n",
    "\n",
    "        y: array, shape = [n_samples,n_classes]\n",
    "            test data.  The data must be in the form of one hot vectors for each\n",
    "            predicted class\n",
    "\n",
    "        length: array or list, int, shape = [n_samples]\n",
    "            The length of each training sentence before padding.\n",
    "        \"\"\"\n",
    "        self.add_placeholders()\n",
    "        self.initialize_variables()\n",
    "        logits = self.predict(self.x_input,self.length_input)\n",
    "        cost,optimizer = self.optimize(logits,self.y_input)\n",
    "        y_pred = tf.argmax(logits,1)\n",
    "        labels  = tf.argmax(self.y_input,1)\n",
    "        \n",
    "        #Create streaming measurements to find accuracy, precision and recall\n",
    "        with tf.name_scope('measurements'):\n",
    "            precision,prec_update = tf.contrib.metrics.streaming_precision(y_pred,labels)\n",
    "            recall,recall_update = tf.contrib.metrics.streaming_recall(y_pred,labels)\n",
    "            accuracy,accuracy_update = tf.contrib.metrics.streaming_accuracy(y_pred,labels)\n",
    "        #Store variables related to metrics in a list, which allows all measuremnt variables\n",
    "        #to be reset\n",
    "        stream_vars = [i for i in tf.local_variables() if i.name.split('/')[0] == 'measurements']\n",
    "        reset_measurements = [tf.variables_initializer(stream_vars)]\n",
    "        \n",
    "        self.saver = tf.train.Saver()\n",
    "        \n",
    "        with tf.Session() as sess:\n",
    "            sess.run(tf.global_variables_initializer())\n",
    "            sess.run(tf.local_variables_initializer())\n",
    "\n",
    "            for epoch in range(config.max_epochs):\n",
    "                av_loss = []\n",
    "                for i in range(len(X)//self.config.batch_size):\n",
    "                    batch_x,batch_y,batch_length = self.get_batch(i,X,y,lengths)\n",
    "                    fd = {self.x_input:batch_x,self.y_input:batch_y,\n",
    "                          self.length_input:batch_length}\n",
    "                    loss,*_ = sess.run((cost,optimizer,\n",
    "                                        prec_update,recall_update,\n",
    "                                        accuracy_update)\n",
    "                                       ,feed_dict=fd)\n",
    "                    av_loss.append(loss)\n",
    "                loss = np.array(av_loss).mean()\n",
    "                acc,p,r = sess.run((accuracy,precision,recall))\n",
    "                sess.run(reset_measurements)\n",
    "                f1_score = 2*p*r/(p+r)\n",
    "                if verbose and epoch%100==0:\n",
    "                    print(\"Epoch {}, Minibatch Loss={:.6f}, training accuracy={:.5f}, f1={:.5f}\"\\\n",
    "                              .format(epoch,loss,acc,f1_score))\n",
    "            self.saver.save(sess,'/temp/model.ckpt')\n",
    "            \n",
    "    def test(self,X,y,lengths):\n",
    "        logits = self.predict(self.x_input,self.length_input,reuse_var=True)\n",
    "        cost = self.get_cost(logits,self.y_input)\n",
    "\n",
    "        y_pred = tf.argmax(logits,1)\n",
    "        labels  = tf.argmax(self.y_input,1)\n",
    "        \n",
    "        precision,prec_update = tf.contrib.metrics.streaming_precision(y_pred,labels)\n",
    "        recall,recall_update = tf.contrib.metrics.streaming_recall(y_pred,labels)\n",
    "        accuracy,accuracy_update = tf.contrib.metrics.streaming_accuracy(y_pred,labels)\n",
    "        \n",
    "        with tf.Session() as sess:\n",
    "            self.saver.restore(sess, \"/temp/model.ckpt\")\n",
    "            print(\"Model restored.\")\n",
    "            sess.run(tf.local_variables_initializer())\n",
    "            cost = sess.run(cost,feed_dict={self.x_input:X,\n",
    "                                                    self.y_input:y,\n",
    "                                                    self.length_input:lengths})\n",
    "            sess.run((prec_update,recall_update,accuracy_update),feed_dict={self.x_input:X,\n",
    "                                                    self.y_input:y,\n",
    "                                                    self.length_input:lengths})\n",
    "            acc,p,r = sess.run((accuracy,precision,recall))\n",
    "            f1_score = 2*p*r/(p+r)\n",
    "            print(\"Testing Loss={:.6f}, testing accuracy= {:.5f}, f1={:.5f} \".format(cost,acc,f1_score))\n",
    "tf.reset_default_graph()\n",
    "config = Config()\n",
    "config.n_input = 50\n",
    "config.n_hidden=50\n",
    "rnn = RNN(config)\n",
    "X,y,lengths = process_data(data.CONTENT,data.CLASS,embedding_dim =config.n_input)\n",
    "X_train,X_test,y_train,y_test,lengths_train,lengths_test = \\\n",
    "        train_test_split(X,y,lengths,train_size=.8,random_state=2)\n",
    "rnn.train(X_train,y_train,lengths_train,verbose=True)\n",
    "rnn.test(X_test,y_test,lengths_test)"
   ]
  },
  {
   "cell_type": "markdown",
   "metadata": {},
   "source": [
    "From this, we can see that a neural network can achieve an f1 score of .93 and .83 on the training and test set respectively.   While this is substantially lower than the scores of the logistic regression classifier, it is close to the score of the naive Bayes classifier.  We can also explore how modifying the size of the hidden layer (the number of features per sentence) affects the training and testing f1 score."
   ]
  },
  {
   "cell_type": "code",
   "execution_count": 38,
   "metadata": {},
   "outputs": [
    {
     "name": "stdout",
     "output_type": "stream",
     "text": [
      "RNN cell, n_hidden = 5\n",
      "Epoch 0, Minibatch Loss=0.782863, training accuracy=0.48071, f1=0.61514\n",
      "Epoch 100, Minibatch Loss=0.492516, training accuracy=0.77714, f1=0.78919\n",
      "Epoch 200, Minibatch Loss=0.427673, training accuracy=0.82357, f1=0.82883\n",
      "Epoch 300, Minibatch Loss=0.413276, training accuracy=0.83357, f1=0.83808\n",
      "Epoch 400, Minibatch Loss=0.391315, training accuracy=0.83857, f1=0.84262\n",
      "Epoch 500, Minibatch Loss=0.387945, training accuracy=0.84714, f1=0.85322\n",
      "Epoch 600, Minibatch Loss=0.370087, training accuracy=0.87286, f1=0.88086\n",
      "Epoch 700, Minibatch Loss=0.364474, training accuracy=0.87071, f1=0.87925\n",
      "Epoch 800, Minibatch Loss=0.339132, training accuracy=0.88786, f1=0.89554\n",
      "Epoch 900, Minibatch Loss=0.327298, training accuracy=0.89143, f1=0.89934\n",
      "INFO:tensorflow:Restoring parameters from /temp/model.ckpt\n",
      "Model restored.\n",
      "Testing Loss=0.369551, testing accuracy= 0.83784, f1=0.85294 \n",
      "RNN cell, n_hidden = 10\n",
      "Epoch 0, Minibatch Loss=0.730618, training accuracy=0.53500, f1=0.68777\n",
      "Epoch 100, Minibatch Loss=0.464048, training accuracy=0.77929, f1=0.78908\n",
      "Epoch 200, Minibatch Loss=0.368418, training accuracy=0.85786, f1=0.86490\n",
      "Epoch 300, Minibatch Loss=0.338256, training accuracy=0.89000, f1=0.89882\n",
      "Epoch 400, Minibatch Loss=0.359042, training accuracy=0.86929, f1=0.87857\n",
      "Epoch 500, Minibatch Loss=0.307088, training accuracy=0.90643, f1=0.91376\n",
      "Epoch 600, Minibatch Loss=0.289893, training accuracy=0.91071, f1=0.91738\n",
      "Epoch 700, Minibatch Loss=0.293118, training accuracy=0.90071, f1=0.90789\n",
      "Epoch 800, Minibatch Loss=0.377614, training accuracy=0.86143, f1=0.86997\n",
      "Epoch 900, Minibatch Loss=0.291380, training accuracy=0.90357, f1=0.91054\n",
      "INFO:tensorflow:Restoring parameters from /temp/model.ckpt\n",
      "Model restored.\n",
      "Testing Loss=0.427110, testing accuracy= 0.83514, f1=0.83820 \n",
      "RNN cell, n_hidden = 20\n",
      "Epoch 0, Minibatch Loss=0.723749, training accuracy=0.50929, f1=0.65285\n",
      "Epoch 100, Minibatch Loss=0.413897, training accuracy=0.81143, f1=0.82114\n",
      "Epoch 200, Minibatch Loss=0.330555, training accuracy=0.87571, f1=0.88522\n",
      "Epoch 300, Minibatch Loss=0.408473, training accuracy=0.83571, f1=0.85007\n",
      "Epoch 400, Minibatch Loss=0.278821, training accuracy=0.89714, f1=0.90438\n",
      "Epoch 500, Minibatch Loss=0.325566, training accuracy=0.87786, f1=0.88407\n",
      "Epoch 600, Minibatch Loss=0.260173, training accuracy=0.91214, f1=0.91795\n",
      "Epoch 700, Minibatch Loss=0.446741, training accuracy=0.84143, f1=0.85160\n",
      "Epoch 800, Minibatch Loss=0.258433, training accuracy=0.91643, f1=0.92142\n",
      "Epoch 900, Minibatch Loss=0.227515, training accuracy=0.92857, f1=0.93351\n",
      "INFO:tensorflow:Restoring parameters from /temp/model.ckpt\n",
      "Model restored.\n",
      "Testing Loss=0.571188, testing accuracy= 0.83784, f1=0.85915 \n",
      "RNN cell, n_hidden = 50\n",
      "Epoch 0, Minibatch Loss=0.663836, training accuracy=0.64286, f1=0.70024\n",
      "Epoch 100, Minibatch Loss=0.308712, training accuracy=0.88714, f1=0.89410\n",
      "Epoch 200, Minibatch Loss=0.340724, training accuracy=0.88286, f1=0.89295\n",
      "Epoch 300, Minibatch Loss=0.155421, training accuracy=0.96714, f1=0.96933\n",
      "Epoch 400, Minibatch Loss=0.222091, training accuracy=0.93000, f1=0.93510\n",
      "Epoch 500, Minibatch Loss=0.200787, training accuracy=0.93857, f1=0.94305\n",
      "Epoch 600, Minibatch Loss=0.224324, training accuracy=0.93000, f1=0.93484\n",
      "Epoch 700, Minibatch Loss=0.177135, training accuracy=0.95429, f1=0.95739\n",
      "Epoch 800, Minibatch Loss=0.183976, training accuracy=0.94857, f1=0.95206\n",
      "Epoch 900, Minibatch Loss=0.206906, training accuracy=0.94071, f1=0.94463\n",
      "INFO:tensorflow:Restoring parameters from /temp/model.ckpt\n",
      "Model restored.\n",
      "Testing Loss=0.528180, testing accuracy= 0.85135, f1=0.85564 \n"
     ]
    }
   ],
   "source": [
    "for n_hidden in [5,10,20,50]:\n",
    "    tf.reset_default_graph()\n",
    "    config = Config()\n",
    "    config.n_input = 50\n",
    "    config.n_hidden=n_hidden\n",
    "    rnn = RNN(config)\n",
    "    print('RNN cell, n_hidden = {}'.format(n_hidden))\n",
    "    rnn.train(X_train,y_train,lengths_train,verbose=True)\n",
    "    rnn.test(X_test,y_test,lengths_test)"
   ]
  },
  {
   "cell_type": "markdown",
   "metadata": {},
   "source": [
    "Although the training scores increase as the number of features per sentence (n_hidden) is increased, the test f1 scores tend to be similar and the loss on the test set is lowest at n_hidden (the number of features per sentence) at 5.  This indicates that given the current amount of data, there is no benefit to going beyond 5 features in the hidden layer.       "
   ]
  },
  {
   "cell_type": "code",
   "execution_count": 27,
   "metadata": {},
   "outputs": [
    {
     "data": {
      "text/html": [
       "<style>\n",
       "  table {margin-left: 0 !important;}\n",
       "</style>"
      ],
      "text/plain": [
       "<IPython.core.display.HTML object>"
      ]
     },
     "metadata": {},
     "output_type": "display_data"
    }
   ],
   "source": [
    "%%html\n",
    "<style>\n",
    "  table {margin-left: 0 !important;}\n",
    "</style>"
   ]
  },
  {
   "cell_type": "markdown",
   "metadata": {},
   "source": [
    "## Conclusions <a id='5'></a>\n",
    "\n",
    "\n",
    "|model  | training f1 | test f1 |\n",
    "|:-------|:-------------|:--------|\n",
    "| logistic regression | .99 | .94 |\n",
    "| naive Bayes         | .86 | .84 |\n",
    "| RNN                 | .90 | .85 |\n",
    "\n",
    "\n",
    "\n",
    "In the case of spam classification of short sentences and a small corpus, the most effective classifier was the simplest, which was a logistic regression classifier trained on a bag of words model.  The naive Bayes classifier and recurrent neural network were both equivalent in terms of f1 score on the test set.   Given the small amount of documents, it is not surprising that the most simple classifier performed the best.   "
   ]
  },
  {
   "cell_type": "code",
   "execution_count": null,
   "metadata": {
    "collapsed": true
   },
   "outputs": [],
   "source": []
  }
 ],
 "metadata": {
  "anaconda-cloud": {},
  "kernelspec": {
   "display_name": "Python [conda env:tensorflow]",
   "language": "python",
   "name": "conda-env-tensorflow-py"
  },
  "language_info": {
   "codemirror_mode": {
    "name": "ipython",
    "version": 3
   },
   "file_extension": ".py",
   "mimetype": "text/x-python",
   "name": "python",
   "nbconvert_exporter": "python",
   "pygments_lexer": "ipython3",
   "version": "3.5.3"
  }
 },
 "nbformat": 4,
 "nbformat_minor": 2
}
